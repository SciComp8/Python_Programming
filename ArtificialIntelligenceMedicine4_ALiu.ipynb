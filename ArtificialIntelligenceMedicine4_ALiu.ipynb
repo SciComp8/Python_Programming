{
 "cells": [
  {
   "cell_type": "markdown",
   "metadata": {},
   "source": [
    "# Question 2"
   ]
  },
  {
   "cell_type": "markdown",
   "metadata": {},
   "source": [
    "FashionMNIST is a public dataset of images. Downloading and preprocessing of FashionMNIST dataset is given as follows. Please design a Deep AutoEncoder model, compressing the data into a 2-dimensional space. Please draw the learned 2-dimensional representations with matplotlib. (50%)\n"
   ]
  },
  {
   "cell_type": "code",
   "execution_count": 1,
   "metadata": {},
   "outputs": [],
   "source": [
    "# Note: Because of my poor computer power (dead kernel often occurs when using the downstream tsne.fit_transform), \n",
    "# In the model architecture, I directly compress the input images to 2 dimensional features in the encoding phase;\n",
    "# rather than compress the input images to > 2 dimensional features in the encoding phase, and subsequently \n",
    "# use T-SNE to further reduce the dimentionality of features to 2.\n",
    "# PS: I have discussed this problem with our course TA."
   ]
  },
  {
   "cell_type": "code",
   "execution_count": 2,
   "metadata": {},
   "outputs": [],
   "source": [
    "# Import packages\n",
    "import torch\n",
    "import torch.nn as nn\n",
    "import torch.utils.data as Data\n",
    "import torchvision\n",
    "import matplotlib.pyplot as plt\n",
    "from matplotlib import cm\n",
    "import numpy as np"
   ]
  },
  {
   "cell_type": "code",
   "execution_count": 3,
   "metadata": {},
   "outputs": [],
   "source": [
    "# Wrangle FashionMNIST dataset\n",
    "train_data = torchvision.datasets.FashionMNIST(\n",
    "    root='data/fashion_mnist/',\n",
    "    train=True,                                     # Use training data\n",
    "    transform=torchvision.transforms.ToTensor(),    # Converts a PIL.Image or numpy.ndarray to torch.FloatTensor of shape (C x H x W) \n",
    "                                                    # and normalize in the range [0.0, 1.0]\n",
    "    download=False,                                 # Have already downloaded the FashionMNIST dataset, otherwise set download as True\n",
    ")"
   ]
  },
  {
   "cell_type": "code",
   "execution_count": 4,
   "metadata": {},
   "outputs": [
    {
     "name": "stdout",
     "output_type": "stream",
     "text": [
      "torch.Size([60000, 28, 28])\n",
      "torch.Size([60000])\n"
     ]
    }
   ],
   "source": [
    "# Check the dimensionality of features and labels in the training set\n",
    "print(train_data.data.size())     \n",
    "print(train_data.targets.size())"
   ]
  },
  {
   "cell_type": "code",
   "execution_count": 5,
   "metadata": {},
   "outputs": [
    {
     "data": {
      "image/png": "[encoded data removed]",
      "text/plain": [
       "<Figure size 432x288 with 1 Axes>"
      ]
     },
     "metadata": {
      "needs_background": "light"
     },
     "output_type": "display_data"
    }
   ],
   "source": [
    "# Plot one example\n",
    "plt.imshow(train_data.data[2].numpy(), cmap='gray')\n",
    "plt.title('%i' % train_data.targets[2])\n",
    "plt.show()"
   ]
  },
  {
   "cell_type": "code",
   "execution_count": 6,
   "metadata": {},
   "outputs": [
    {
     "name": "stdout",
     "output_type": "stream",
     "text": [
      "tensor([0, 1, 2, 3, 4, 5, 6, 7, 8, 9])\n"
     ]
    }
   ],
   "source": [
    "# Check the disctinctive labels\n",
    "output = torch.unique(train_data.targets)\n",
    "print(output)"
   ]
  },
  {
   "cell_type": "code",
   "execution_count": 7,
   "metadata": {},
   "outputs": [],
   "source": [
    "# Data Loader for easy mini-batch return in training, the image batch shape will be (64, 1, 28, 28)\n",
    "BATCH_SIZE = 64\n",
    "train_loader = Data.DataLoader(dataset=train_data, batch_size=BATCH_SIZE, shuffle=True)"
   ]
  },
  {
   "cell_type": "code",
   "execution_count": 8,
   "metadata": {},
   "outputs": [],
   "source": [
    "# Model (25%)\n",
    "class AutoEncoder(nn.Module):\n",
    "    def __init__(self):\n",
    "        super(AutoEncoder, self).__init__()\n",
    "\n",
    "        self.encoder = nn.Sequential(\n",
    "            nn.Linear(28*28, 128),\n",
    "            nn.ReLU(),              # Have tried nn.Tanh; compared to nn.Tanh, nn.ReLU gives the reconstructed image more similar to the original image\n",
    "            nn.Linear(128, 64),\n",
    "            nn.ReLU(),\n",
    "            nn.Linear(64, 12),\n",
    "            nn.ReLU(),\n",
    "            nn.Linear(12, 2),       # 2-D space: one axis represents one features and another axis represents another feature, which can be visualized in plt\n",
    "        )\n",
    "        self.decoder = nn.Sequential(\n",
    "            nn.Linear(2, 12),\n",
    "            nn.ReLU(),\n",
    "            nn.Linear(12, 64),\n",
    "            nn.ReLU(),\n",
    "            nn.Linear(64, 128),\n",
    "            nn.ReLU(),\n",
    "            nn.Linear(128, 28*28),\n",
    "            nn.Sigmoid(),           # Compress to a range (0, 1)\n",
    "        )\n",
    "\n",
    "    def forward(self, x):\n",
    "        encoded = self.encoder(x)\n",
    "        decoded = self.decoder(encoded)\n",
    "        return encoded, decoded"
   ]
  },
  {
   "cell_type": "code",
   "execution_count": 9,
   "metadata": {},
   "outputs": [
    {
     "name": "stdout",
     "output_type": "stream",
     "text": [
      "AutoEncoder(\n",
      "  (encoder): Sequential(\n",
      "    (0): Linear(in_features=784, out_features=128, bias=True)\n",
      "    (1): ReLU()\n",
      "    (2): Linear(in_features=128, out_features=64, bias=True)\n",
      "    (3): ReLU()\n",
      "    (4): Linear(in_features=64, out_features=12, bias=True)\n",
      "    (5): ReLU()\n",
      "    (6): Linear(in_features=12, out_features=2, bias=True)\n",
      "  )\n",
      "  (decoder): Sequential(\n",
      "    (0): Linear(in_features=2, out_features=12, bias=True)\n",
      "    (1): ReLU()\n",
      "    (2): Linear(in_features=12, out_features=64, bias=True)\n",
      "    (3): ReLU()\n",
      "    (4): Linear(in_features=64, out_features=128, bias=True)\n",
      "    (5): ReLU()\n",
      "    (6): Linear(in_features=128, out_features=784, bias=True)\n",
      "    (7): Sigmoid()\n",
      "  )\n",
      ")\n"
     ]
    }
   ],
   "source": [
    "autoencoder = AutoEncoder()\n",
    "print(autoencoder)"
   ]
  },
  {
   "cell_type": "code",
   "execution_count": 10,
   "metadata": {},
   "outputs": [],
   "source": [
    "# Set hyper-parameters\n",
    "EPOCH = 10\n",
    "LR = 0.005 # Learning rate is 0.005"
   ]
  },
  {
   "cell_type": "code",
   "execution_count": 11,
   "metadata": {},
   "outputs": [],
   "source": [
    "# Set optimizer and loss function\n",
    "optimizer = torch.optim.Adam(autoencoder.parameters(), lr=LR)\n",
    "loss_func = nn.MSELoss()"
   ]
  },
  {
   "cell_type": "code",
   "execution_count": 12,
   "metadata": {},
   "outputs": [
    {
     "name": "stdout",
     "output_type": "stream",
     "text": [
      "Epoch 0,  loss 0.038\n",
      "Epoch 1,  loss 0.030\n",
      "Epoch 2,  loss 0.029\n",
      "Epoch 3,  loss 0.028\n",
      "Epoch 4,  loss 0.028\n",
      "Epoch 5,  loss 0.028\n",
      "Epoch 6,  loss 0.027\n",
      "Epoch 7,  loss 0.028\n",
      "Epoch 8,  loss 0.028\n",
      "Epoch 9,  loss 0.028\n"
     ]
    }
   ],
   "source": [
    "# Training (15%)\n",
    "loss_list = []\n",
    "\n",
    "for epoch in range(EPOCH): # Loop from 0 to 9 epochs\n",
    "    \n",
    "    loss_temp = 0\n",
    "    i = 0\n",
    "    \n",
    "    for step, (x, b_label) in enumerate(train_loader): # Loop from each batch of input features and labels from trainloader during one epoch\n",
    "        i += 1\n",
    "        \n",
    "        b_x = x.view(-1, 28*28)             # Batch x, shape (batch, 28*28)\n",
    "        b_y = x.view(-1, 28*28)             # Batch y, shape (batch, 28*28)\n",
    "\n",
    "        encoded, decoded = autoencoder(b_x)\n",
    "\n",
    "        loss = loss_func(decoded, b_y)      # Mean square error\n",
    "        optimizer.zero_grad()               # Clear gradients for this training step\n",
    "        loss.backward()                     # Backpropagation, compute gradients\n",
    "        optimizer.step()                    # Apply gradients\n",
    "        \n",
    "        loss_temp += loss.data.numpy()\n",
    "\n",
    "    print(\"Epoch %s,  loss %.3f\" % (epoch,  loss_temp/i))\n",
    "    loss_list.append(loss_temp/i)           # Loss recoder"
   ]
  },
  {
   "cell_type": "code",
   "execution_count": 13,
   "metadata": {},
   "outputs": [
    {
     "data": {
      "image/png": "[encoded data removed]",
      "text/plain": [
       "<Figure size 432x288 with 1 Axes>"
      ]
     },
     "metadata": {
      "needs_background": "light"
     },
     "output_type": "display_data"
    }
   ],
   "source": [
    "# Plot (10%)\n",
    "# Visualize loss\n",
    "plt.plot(loss_list)\n",
    "plt.xlabel('Steps')\n",
    "plt.ylabel('Loss')\n",
    "plt.show()"
   ]
  },
  {
   "cell_type": "code",
   "execution_count": 14,
   "metadata": {},
   "outputs": [],
   "source": [
    "# Use the trained model and first 100 examples in the training set, to get compressed features \n",
    "view_data = train_data.data[:100].view(-1, 28*28).type(torch.FloatTensor)/255. # Normalization + flatten\n",
    "encoded_data, decoded_data = autoencoder(view_data)"
   ]
  },
  {
   "cell_type": "code",
   "execution_count": 15,
   "metadata": {},
   "outputs": [
    {
     "data": {
      "text/plain": [
       "torch.Size([100, 2])"
      ]
     },
     "execution_count": 15,
     "metadata": {},
     "output_type": "execute_result"
    }
   ],
   "source": [
    "# Show the size of the encoded data\n",
    "encoded_data.size()"
   ]
  },
  {
   "cell_type": "code",
   "execution_count": 16,
   "metadata": {},
   "outputs": [
    {
     "data": {
      "text/plain": [
       "(100, 2)"
      ]
     },
     "execution_count": 16,
     "metadata": {},
     "output_type": "execute_result"
    }
   ],
   "source": [
    "# This compressed numpy-formatted feature set can be used for downstream tasks\n",
    "encoded_arr = encoded_data.detach().numpy()\n",
    "encoded_arr.shape"
   ]
  },
  {
   "cell_type": "code",
   "execution_count": 17,
   "metadata": {},
   "outputs": [
    {
     "data": {
      "image/png": "[encoded data removed]",
      "text/plain": [
       "<Figure size 432x288 with 1 Axes>"
      ]
     },
     "metadata": {
      "needs_background": "light"
     },
     "output_type": "display_data"
    }
   ],
   "source": [
    "# This is the true data\n",
    "plt.imshow(view_data.numpy()[1].reshape(28,28), cmap='gray')\n",
    "plt.show()"
   ]
  },
  {
   "cell_type": "code",
   "execution_count": 18,
   "metadata": {},
   "outputs": [
    {
     "data": {
      "image/png": "[encoded data removed]",
      "text/plain": [
       "<Figure size 432x288 with 1 Axes>"
      ]
     },
     "metadata": {
      "needs_background": "light"
     },
     "output_type": "display_data"
    }
   ],
   "source": [
    "# This is the reconstructed data\n",
    "plt.imshow(decoded_data.detach().numpy()[1].reshape(28,28), cmap='gray')\n",
    "plt.show()"
   ]
  },
  {
   "cell_type": "code",
   "execution_count": 19,
   "metadata": {},
   "outputs": [
    {
     "data": {
      "text/plain": [
       "array([-2.307583  ,  1.6388732 ,  1.2553657 ,  1.7723644 ,  3.003036  ,\n",
       "       -1.8178272 , -0.00738832, -2.7036579 , -0.64248407, -1.4200708 ,\n",
       "        1.7156643 , -3.8012853 , -0.36514106, -0.15183416,  0.40181273,\n",
       "       -1.8676856 ,  3.0166295 ,  2.0527043 , -1.9547355 , -0.16336787,\n",
       "        3.3500543 ,  2.508074  ,  0.12701058, -2.8199692 , -0.4256744 ,\n",
       "        2.5410721 ,  1.4191937 , -2.333858  , -0.3494886 , -1.5983006 ,\n",
       "        0.3237871 ,  1.8388209 , -0.81665635, -0.10130548,  0.5224501 ,\n",
       "       -1.9865854 , -1.9326644 , -1.3750868 ,  3.617795  , -0.5799327 ,\n",
       "       -1.1973976 , -0.129832  , -1.4180328 , -0.26300982, -3.6940665 ,\n",
       "       -1.5325649 , -0.04155263,  2.789728  ,  1.3304724 ,  0.99476206,\n",
       "        3.2362697 ,  3.0631685 , -0.12406307, -1.3746173 , -0.0173099 ,\n",
       "        2.0562754 ,  1.8741529 ,  1.9017516 ,  3.352785  ,  2.4437957 ,\n",
       "       -1.8406553 ,  1.1338723 ,  0.06716341,  0.33589408,  3.0388238 ,\n",
       "       -2.666776  ,  1.8792244 ,  2.3644657 , -1.2798163 ,  2.2163281 ,\n",
       "       -1.2326276 ,  2.767335  ,  1.336261  ,  3.3128724 ,  2.8593364 ,\n",
       "        0.7673225 ,  0.15005066,  1.3105315 ,  2.4310613 , -2.1846726 ,\n",
       "        2.8254626 ,  1.5542722 , -0.6851473 , -0.1948748 , -3.4115317 ,\n",
       "       -0.46641824,  2.688205  ,  0.11636871, -3.9392815 , -0.98496497,\n",
       "       -1.1373787 ,  1.9612688 , -0.6800344 , -1.2504535 ,  2.2337348 ,\n",
       "       -0.82440996,  0.11798951,  4.267041  ,  2.7066045 , -2.5659244 ],\n",
       "      dtype=float32)"
      ]
     },
     "execution_count": 19,
     "metadata": {},
     "output_type": "execute_result"
    }
   ],
   "source": [
    "# This is the compressed feature 1\n",
    "encoded_arr[:, 0]"
   ]
  },
  {
   "cell_type": "code",
   "execution_count": 20,
   "metadata": {},
   "outputs": [
    {
     "data": {
      "text/plain": [
       "array([-0.03999567, -5.328668  , -1.5140038 , -2.7114708 , -3.6955583 ,\n",
       "       -5.214967  ,  2.5294387 , -6.893132  , -0.27591783, -0.63924414,\n",
       "       -4.613729  , -2.558909  ,  0.7912406 ,  1.1170983 ,  2.775308  ,\n",
       "        0.25877333, -1.1021931 , -5.052081  , -5.3258557 , -1.7318516 ,\n",
       "       -3.890714  , -0.8751001 , -3.8351734 ,  4.904698  , -5.836689  ,\n",
       "       -4.2686987 , -4.2852077 , -6.8742723 , -3.8076293 , -5.9784017 ,\n",
       "        1.0049683 , -1.8602641 , -4.9304276 , -0.5713261 , -0.9015785 ,\n",
       "       -2.152819  , -2.3537354 , -3.0415597 , -2.132563  , -6.8928204 ,\n",
       "       -5.4647393 ,  2.5616357 ,  0.95767295,  1.0468225 , -1.9402692 ,\n",
       "       -4.456067  ,  2.5261376 , -4.62575   , -4.26544   , -5.1026015 ,\n",
       "       -3.2346373 , -3.2063494 ,  2.4276206 , -7.6282306 , -1.9914548 ,\n",
       "       -5.280564  , -4.201747  , -2.5271156 , -3.4233513 , -1.8179266 ,\n",
       "       -0.64076656, -3.2085254 ,  0.92945695,  0.43119496, -4.1482663 ,\n",
       "       -5.728905  , -5.582852  , -3.1387987 , -4.302948  , -1.2239199 ,\n",
       "       -5.2868133 , -1.1765134 , -2.8419688 , -3.8099859 , -1.5205882 ,\n",
       "       -5.569471  , -3.7038739 , -4.8648276 , -1.2705715 , -0.37842917,\n",
       "       -1.1992426 , -1.3302815 , -0.05752203,  2.89491   , -1.2920723 ,\n",
       "        1.0699658 , -1.1144054 ,  2.3632376 , -2.617777  ,  0.89251214,\n",
       "        0.10503668, -2.0129943 , -1.6926501 ,  1.0095444 , -3.8439639 ,\n",
       "       -3.5026371 , -1.3170543 , -2.858754  , -0.83293706,  4.001131  ],\n",
       "      dtype=float32)"
      ]
     },
     "execution_count": 20,
     "metadata": {},
     "output_type": "execute_result"
    }
   ],
   "source": [
    "# This is the compressed feature 2\n",
    "encoded_arr[:, 1]"
   ]
  },
  {
   "cell_type": "code",
   "execution_count": 21,
   "metadata": {},
   "outputs": [
    {
     "data": {
      "image/png": "[encoded data removed]",
      "text/plain": [
       "<Figure size 432x288 with 1 Axes>"
      ]
     },
     "metadata": {
      "needs_background": "light"
     },
     "output_type": "display_data"
    }
   ],
   "source": [
    "# Plot the learned 2-dimensional representations without labels\n",
    "plt.scatter(encoded_arr[:, 0], encoded_arr[:, 1])\n",
    "plt.xlabel(\"feature_1\")\n",
    "plt.ylabel(\"feature_2\")\n",
    "plt.show()"
   ]
  },
  {
   "cell_type": "code",
   "execution_count": 22,
   "metadata": {},
   "outputs": [
    {
     "data": {
      "text/plain": [
       "array([9, 0, 0, 3, 0, 2, 7, 2, 5, 5, 0, 9, 5, 5, 7, 9, 1, 0, 6, 4, 3, 1,\n",
       "       4, 8, 4, 3, 0, 2, 4, 4, 5, 3, 6, 6, 0, 8, 5, 2, 1, 6, 6, 7, 9, 5,\n",
       "       9, 2, 7, 3, 0, 3, 3, 3, 7, 2, 2, 6, 6, 8, 3, 3, 5, 0, 5, 5, 0, 2,\n",
       "       0, 0, 4, 1, 3, 1, 6, 3, 1, 4, 4, 6, 1, 9, 1, 3, 5, 7, 9, 7, 1, 7,\n",
       "       9, 9, 9, 3, 2, 9, 3, 6, 4, 1, 1, 8])"
      ]
     },
     "execution_count": 22,
     "metadata": {},
     "output_type": "execute_result"
    }
   ],
   "source": [
    "# Recall the distinctive labels: tensor([0, 1, 2, 3, 4, 5, 6, 7, 8, 9])\n",
    "# Here, we transform the first 100 tensor-formatted labels to the numpy-formatted labels, for plotting with matplotlib\n",
    "y = train_data.targets[:100].numpy()\n",
    "y\n",
    "# y.size  # 100"
   ]
  },
  {
   "cell_type": "code",
   "execution_count": 23,
   "metadata": {},
   "outputs": [
    {
     "data": {
      "image/png": "[encoded data removed]",
      "text/plain": [
       "<Figure size 432x288 with 1 Axes>"
      ]
     },
     "metadata": {
      "needs_background": "light"
     },
     "output_type": "display_data"
    }
   ],
   "source": [
    "# Plot the learned 2-dimensional representations with labels\n",
    "plt.scatter(encoded_arr[y == 0, 0], encoded_arr[y == 0, 1], label='0', c='blue')\n",
    "plt.scatter(encoded_arr[y == 1, 0], encoded_arr[y == 1, 1], label='1', c='red')\n",
    "plt.scatter(encoded_arr[y == 2, 0], encoded_arr[y == 2, 1], label='2', c='orange')\n",
    "plt.scatter(encoded_arr[y == 3, 0], encoded_arr[y == 3, 1], label='3', c='green')\n",
    "plt.scatter(encoded_arr[y == 4, 0], encoded_arr[y == 4, 1], label='4', c='olive')\n",
    "plt.scatter(encoded_arr[y == 5, 0], encoded_arr[y == 5, 1], label='5', c='purple')\n",
    "plt.scatter(encoded_arr[y == 6, 0], encoded_arr[y == 6, 1], label='6', c='grey', alpha=0.3)\n",
    "plt.scatter(encoded_arr[y == 7, 0], encoded_arr[y == 7, 1], label='7', c='brown', alpha=0.5)\n",
    "plt.scatter(encoded_arr[y == 8, 0], encoded_arr[y == 8, 1], label='8', c='black')\n",
    "plt.scatter(encoded_arr[y == 9, 0], encoded_arr[y == 9, 1], label='9', c='darkblue')\n",
    "plt.xlabel(\"feature_1\")\n",
    "plt.ylabel(\"feature_2\")\n",
    "plt.legend()\n",
    "plt.show()"
   ]
  }
 ],
 "metadata": {
  "kernelspec": {
   "display_name": "Python 3 (ipykernel)",
   "language": "python",
   "name": "python3"
  },
  "language_info": {
   "codemirror_mode": {
    "name": "ipython",
    "version": 3
   },
   "file_extension": ".py",
   "mimetype": "text/x-python",
   "name": "python",
   "nbconvert_exporter": "python",
   "pygments_lexer": "ipython3",
   "version": "3.9.7"
  }
 },
 "nbformat": 4,
 "nbformat_minor": 2
}
