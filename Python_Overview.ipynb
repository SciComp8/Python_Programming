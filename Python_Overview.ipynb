{
  "cells": [
    {
      "cell_type": "markdown",
      "metadata": {
        "id": "view-in-github",
        "colab_type": "text"
      },
      "source": [
        "<a href=\"https://colab.research.google.com/github/ScienceComputing/Python_Programming/blob/main/Python_Overview.ipynb\" target=\"_parent\"><img src=\"https://colab.research.google.com/assets/colab-badge.svg\" alt=\"Open In Colab\"/></a>"
      ]
    },
    {
      "cell_type": "markdown",
      "source": [
        "# Make a comment"
      ],
      "metadata": {
        "id": "4XwkhZmp7v1K"
      },
      "id": "4XwkhZmp7v1K"
    },
    {
      "cell_type": "code",
      "execution_count": null,
      "id": "0d7f26a5",
      "metadata": {
        "colab": {
          "base_uri": "https://localhost:8080/"
        },
        "id": "0d7f26a5",
        "outputId": "ef823f39-3ee4-42d5-9711-a3179fd1d216"
      },
      "outputs": [
        {
          "output_type": "stream",
          "name": "stdout",
          "text": [
            "This is a Print Statement\n"
          ]
        }
      ],
      "source": [
        "# This is a comment\n",
        "\"\"\"\n",
        "This is a comment!\n",
        "This is also a comment!\n",
        "This is yet another comment!\n",
        "\"\"\"\n",
        "# This is a longer comment!\n",
        "# This is a longer comment!\n",
        "# This is a longer comment!\n",
        "\n",
        "print(\"This is a Print Statement\")"
      ]
    },
    {
      "cell_type": "code",
      "execution_count": null,
      "id": "08e691ab",
      "metadata": {
        "colab": {
          "base_uri": "https://localhost:8080/"
        },
        "id": "08e691ab",
        "outputId": "eed5199e-8675-41c8-d547-a08d6ef09ba7"
      },
      "outputs": [
        {
          "output_type": "stream",
          "name": "stdout",
          "text": [
            "This is a Print Statement 1\n"
          ]
        }
      ],
      "source": [
        "print(\"This is a Print Statement\", 1)"
      ]
    },
    {
      "cell_type": "markdown",
      "source": [
        "# Basic data type (`dtype`)\n"
      ],
      "metadata": {
        "id": "T9ome7sl8Rc1"
      },
      "id": "T9ome7sl8Rc1"
    },
    {
      "cell_type": "code",
      "execution_count": null,
      "id": "bb03c7ac",
      "metadata": {
        "id": "bb03c7ac",
        "outputId": "4f8ceaa8-baef-49ca-da81-f07712fe4da1"
      },
      "outputs": [
        {
          "name": "stdout",
          "output_type": "stream",
          "text": [
            "<class 'int'>\n",
            "<class 'float'>\n"
          ]
        }
      ],
      "source": [
        "# Integer\n",
        "int_ex = 6\n",
        "\n",
        "# Float\n",
        "float_ex = 6.0\n",
        "print(type(int_ex))\n",
        "print(type(float_ex))"
      ]
    },
    {
      "cell_type": "code",
      "source": [
        "import pandas as pd\n",
        "import numpy as np\n",
        "\n",
        "print(pd.__version__)"
      ],
      "metadata": {
        "colab": {
          "base_uri": "https://localhost:8080/"
        },
        "id": "jD9KQKTX8Ze-",
        "outputId": "ffbe78e0-b955-42fa-c49b-6e1f75c67211"
      },
      "id": "jD9KQKTX8Ze-",
      "execution_count": null,
      "outputs": [
        {
          "output_type": "stream",
          "name": "stdout",
          "text": [
            "1.5.3\n"
          ]
        }
      ]
    },
    {
      "cell_type": "code",
      "source": [
        "num_series = pd.Series([9, 12, 9, 0, 8], dtype=np.float64)\n",
        "print(num_series.dtype)"
      ],
      "metadata": {
        "colab": {
          "base_uri": "https://localhost:8080/"
        },
        "id": "QCcmWcKj8mZI",
        "outputId": "b700d36b-9000-4187-b7c6-a7e77eca39c3"
      },
      "id": "QCcmWcKj8mZI",
      "execution_count": null,
      "outputs": [
        {
          "output_type": "stream",
          "name": "stdout",
          "text": [
            "float64\n"
          ]
        }
      ]
    },
    {
      "cell_type": "markdown",
      "source": [
        "# Algebra operation"
      ],
      "metadata": {
        "id": "th8YWfw69NCj"
      },
      "id": "th8YWfw69NCj"
    },
    {
      "cell_type": "code",
      "execution_count": null,
      "id": "1f0888d6",
      "metadata": {
        "id": "1f0888d6",
        "outputId": "85f1a8ef-5e88-4754-8c54-a64ed82ea053"
      },
      "outputs": [
        {
          "data": {
            "text/plain": [
              "9"
            ]
          },
          "execution_count": 4,
          "metadata": {},
          "output_type": "execute_result"
        }
      ],
      "source": [
        "# Exponentiation\n",
        "3**2"
      ]
    },
    {
      "cell_type": "code",
      "execution_count": null,
      "id": "15040b8a",
      "metadata": {
        "id": "15040b8a",
        "outputId": "a35aaceb-ee20-4831-b1fc-4afd7f4eb0d8"
      },
      "outputs": [
        {
          "data": {
            "text/plain": [
              "1"
            ]
          },
          "execution_count": 5,
          "metadata": {},
          "output_type": "execute_result"
        }
      ],
      "source": [
        "3^2"
      ]
    },
    {
      "cell_type": "code",
      "execution_count": null,
      "id": "9794356d",
      "metadata": {
        "id": "9794356d",
        "outputId": "dd88ff39-4fd9-4719-a771-e341194ad171"
      },
      "outputs": [
        {
          "data": {
            "text/plain": [
              "True"
            ]
          },
          "execution_count": 8,
          "metadata": {},
          "output_type": "execute_result"
        }
      ],
      "source": [
        "# Modulo %: return the remainder\n",
        "# Return an odd number\n",
        "5%2 == 1\n",
        "\n",
        "# Return an even number\n",
        "6%3 == 0"
      ]
    },
    {
      "cell_type": "markdown",
      "source": [
        "# Double and single quotes"
      ],
      "metadata": {
        "id": "ECD9kSOq9VJU"
      },
      "id": "ECD9kSOq9VJU"
    },
    {
      "cell_type": "code",
      "execution_count": null,
      "id": "c7b55734",
      "metadata": {
        "id": "c7b55734",
        "outputId": "7a0b4dae-32e6-4a3c-ec20-ce67db9ad563"
      },
      "outputs": [
        {
          "data": {
            "text/plain": [
              "'Hello World'"
            ]
          },
          "execution_count": 12,
          "metadata": {},
          "output_type": "execute_result"
        }
      ],
      "source": [
        "# String = a collection of characters\n",
        "str_ex = \"Hello World\"\n",
        "str_ex"
      ]
    },
    {
      "cell_type": "code",
      "execution_count": null,
      "id": "ad2d2089",
      "metadata": {
        "id": "ad2d2089",
        "outputId": "915bcd64-7839-4c8a-f67d-5649c1098910"
      },
      "outputs": [
        {
          "data": {
            "text/plain": [
              "\"It's time\""
            ]
          },
          "execution_count": 11,
          "metadata": {},
          "output_type": "execute_result"
        }
      ],
      "source": [
        "str_ex2 = \"It's time\"\n",
        "str_ex2"
      ]
    },
    {
      "cell_type": "code",
      "execution_count": null,
      "id": "c15c4132",
      "metadata": {
        "id": "c15c4132",
        "outputId": "9bf7be70-1883-4fb8-beca-057f54350934"
      },
      "outputs": [
        {
          "ename": "SyntaxError",
          "evalue": "invalid syntax (2177405791.py, line 1)",
          "output_type": "error",
          "traceback": [
            "\u001b[0;36m  File \u001b[0;32m\"/var/folders/s1/6460_yvs6ggdv14vc1dsk_r40000gn/T/ipykernel_7810/2177405791.py\"\u001b[0;36m, line \u001b[0;32m1\u001b[0m\n\u001b[0;31m    str_ex3 = 'It's time'\u001b[0m\n\u001b[0m                  ^\u001b[0m\n\u001b[0;31mSyntaxError\u001b[0m\u001b[0;31m:\u001b[0m invalid syntax\n"
          ]
        }
      ],
      "source": [
        "str_ex3 = 'It's time'\n",
        "str_ex3"
      ]
    },
    {
      "cell_type": "code",
      "execution_count": null,
      "id": "6c3bdfea",
      "metadata": {
        "id": "6c3bdfea",
        "outputId": "e2b2c9b2-5950-4463-93b1-86565867b6e1"
      },
      "outputs": [
        {
          "data": {
            "text/plain": [
              "\"It's time\""
            ]
          },
          "execution_count": 15,
          "metadata": {},
          "output_type": "execute_result"
        }
      ],
      "source": [
        "# Escape \\\n",
        "str_ex4 = 'It\\'s time'\n",
        "str_ex4"
      ]
    },
    {
      "cell_type": "markdown",
      "source": [
        "# String operations"
      ],
      "metadata": {
        "id": "_8tn7voT8r7m"
      },
      "id": "_8tn7voT8r7m"
    },
    {
      "cell_type": "code",
      "execution_count": null,
      "id": "0802c358",
      "metadata": {
        "id": "0802c358",
        "outputId": "09a2cfd8-f3ba-45ff-c377-011d7d9033b6"
      },
      "outputs": [
        {
          "data": {
            "text/plain": [
              "3"
            ]
          },
          "execution_count": 16,
          "metadata": {},
          "output_type": "execute_result"
        }
      ],
      "source": [
        "# Count the occurence of a character in a string\n",
        "str_ex.count(\"l\")"
      ]
    },
    {
      "cell_type": "code",
      "execution_count": null,
      "id": "5202c152",
      "metadata": {
        "id": "5202c152",
        "outputId": "d5979f9f-7216-4967-8c53-18109f62113d"
      },
      "outputs": [
        {
          "name": "stdout",
          "output_type": "stream",
          "text": [
            "HELLO WORLD\n",
            "hello world\n",
            "Hello World\n"
          ]
        }
      ],
      "source": [
        "print(str_ex.upper())\n",
        "print(str_ex.lower())\n",
        "print(str_ex.title())"
      ]
    },
    {
      "cell_type": "code",
      "execution_count": null,
      "id": "7b40f794",
      "metadata": {
        "id": "7b40f794",
        "outputId": "90c81f26-ac73-43ab-dbc9-7a9147d260ee"
      },
      "outputs": [
        {
          "data": {
            "text/plain": [
              "2"
            ]
          },
          "execution_count": 18,
          "metadata": {},
          "output_type": "execute_result"
        }
      ],
      "source": [
        "# Return the index of a character (first appear) in a string\n",
        "str_ex.index(\"l\")"
      ]
    },
    {
      "cell_type": "code",
      "execution_count": null,
      "id": "f990dc37",
      "metadata": {
        "id": "f990dc37",
        "outputId": "2c322659-eb7a-4db3-c0dc-9401217b813d"
      },
      "outputs": [
        {
          "data": {
            "text/plain": [
              "'Hello, World'"
            ]
          },
          "execution_count": 20,
          "metadata": {},
          "output_type": "execute_result"
        }
      ],
      "source": [
        "str_ex.replace(\" \", \", \")"
      ]
    },
    {
      "cell_type": "code",
      "execution_count": null,
      "id": "2952e778",
      "metadata": {
        "id": "2952e778",
        "outputId": "5023f6ad-764f-4939-fb94-2122d1291f83"
      },
      "outputs": [
        {
          "data": {
            "text/plain": [
              "['Hello', 'World']"
            ]
          },
          "execution_count": 23,
          "metadata": {},
          "output_type": "execute_result"
        }
      ],
      "source": [
        "# Convert a string to a list containing each substring\n",
        "a = str_ex.split()\n",
        "a"
      ]
    },
    {
      "cell_type": "code",
      "execution_count": null,
      "id": "abb2b393",
      "metadata": {
        "id": "abb2b393",
        "outputId": "21ed24e5-b1a2-48ce-ccdd-85682a56cc19"
      },
      "outputs": [
        {
          "data": {
            "text/plain": [
              "'HelloWorld'"
            ]
          },
          "execution_count": 24,
          "metadata": {},
          "output_type": "execute_result"
        }
      ],
      "source": [
        "# Concatenate all substrings into a long string\n",
        "\"\".join(a)"
      ]
    },
    {
      "cell_type": "code",
      "execution_count": null,
      "id": "069759a6",
      "metadata": {
        "id": "069759a6",
        "outputId": "2997048c-2474-47d0-d1f0-8d7cc70af9d1"
      },
      "outputs": [
        {
          "data": {
            "text/plain": [
              "'Hello World'"
            ]
          },
          "execution_count": 25,
          "metadata": {},
          "output_type": "execute_result"
        }
      ],
      "source": [
        "\" \".join(a)"
      ]
    },
    {
      "cell_type": "code",
      "execution_count": null,
      "id": "44709661",
      "metadata": {
        "id": "44709661",
        "outputId": "27631dc1-4a52-4c67-a39d-67583fe01e1b"
      },
      "outputs": [
        {
          "data": {
            "text/plain": [
              "'Hello, World'"
            ]
          },
          "execution_count": 26,
          "metadata": {},
          "output_type": "execute_result"
        }
      ],
      "source": [
        "\", \".join(a)"
      ]
    },
    {
      "cell_type": "code",
      "execution_count": null,
      "id": "3c491682",
      "metadata": {
        "id": "3c491682",
        "outputId": "58d78a3d-e98e-408a-fcef-464649e9bb5e"
      },
      "outputs": [
        {
          "name": "stdout",
          "output_type": "stream",
          "text": [
            "helloworld\n"
          ]
        }
      ],
      "source": [
        "# You can also use operators on strings\n",
        "hello = \"hello\"\n",
        "world = \"world\"\n",
        "helloworld = hello + world\n",
        "print(helloworld)"
      ]
    },
    {
      "cell_type": "code",
      "execution_count": null,
      "id": "78290bc3",
      "metadata": {
        "id": "78290bc3",
        "outputId": "bc155771-052f-4997-c145-b4385543989c"
      },
      "outputs": [
        {
          "name": "stdout",
          "output_type": "stream",
          "text": [
            "hello world\n"
          ]
        }
      ],
      "source": [
        "helloworld = hello + \" \" + world\n",
        "print(helloworld)"
      ]
    },
    {
      "cell_type": "code",
      "execution_count": null,
      "id": "8e67e913",
      "metadata": {
        "id": "8e67e913",
        "outputId": "36c29274-58fc-42b2-bc44-6bc45783de8c"
      },
      "outputs": [
        {
          "name": "stdout",
          "output_type": "stream",
          "text": [
            "hello hello hello hello hello \n"
          ]
        }
      ],
      "source": [
        "helloworld_new = \"hello \" * 5\n",
        "print(helloworld_new)"
      ]
    },
    {
      "cell_type": "code",
      "execution_count": null,
      "id": "f2807a52",
      "metadata": {
        "id": "f2807a52",
        "outputId": "648e7750-23fe-4cee-8276-78703efb7a1b"
      },
      "outputs": [
        {
          "name": "stdout",
          "output_type": "stream",
          "text": [
            "False\n",
            "0\n"
          ]
        }
      ],
      "source": [
        "# Boolean\n",
        "boo_ex = 5 < 4\n",
        "print(boo_ex)\n",
        "print(int(boo_ex))"
      ]
    },
    {
      "cell_type": "code",
      "execution_count": null,
      "id": "f3bde9ab",
      "metadata": {
        "id": "f3bde9ab",
        "outputId": "00725799-e9d7-43dd-e39d-1cb102d7346e"
      },
      "outputs": [
        {
          "data": {
            "text/plain": [
              "True"
            ]
          },
          "execution_count": 32,
          "metadata": {},
          "output_type": "execute_result"
        }
      ],
      "source": [
        "a = 1\n",
        "b = 2\n",
        "a == 1 and b == 2"
      ]
    },
    {
      "cell_type": "code",
      "execution_count": null,
      "id": "515b6b96",
      "metadata": {
        "id": "515b6b96"
      },
      "outputs": [],
      "source": [
        "# Conditional expressions\n",
        "\"\"\"\n",
        "if \\<expression_1\\>:\\n\n",
        "    code # You must have indent\n",
        "elif \\<expression_2\\>:\\n\n",
        "    code\n",
        "else\n",
        "\"\"\""
      ]
    },
    {
      "cell_type": "code",
      "execution_count": null,
      "id": "57a8cd99",
      "metadata": {
        "id": "57a8cd99",
        "outputId": "bfa8a4f0-7dfe-4139-a2c9-bc3ec382dbf4"
      },
      "outputs": [
        {
          "ename": "SyntaxError",
          "evalue": "invalid syntax (1506332484.py, line 1)",
          "output_type": "error",
          "traceback": [
            "\u001b[0;36m  File \u001b[0;32m\"/var/folders/s1/6460_yvs6ggdv14vc1dsk_r40000gn/T/ipykernel_7810/1506332484.py\"\u001b[0;36m, line \u001b[0;32m1\u001b[0m\n\u001b[0;31m    if (a =< 1) and (b == 2)\u001b[0m\n\u001b[0m          ^\u001b[0m\n\u001b[0;31mSyntaxError\u001b[0m\u001b[0;31m:\u001b[0m invalid syntax\n"
          ]
        }
      ],
      "source": [
        "if (a =< 1) and (b == 2)"
      ]
    },
    {
      "cell_type": "code",
      "execution_count": null,
      "id": "f9e34f19",
      "metadata": {
        "id": "f9e34f19",
        "outputId": "18401080-9222-40e7-af12-d281357769a7"
      },
      "outputs": [
        {
          "name": "stdout",
          "output_type": "stream",
          "text": [
            "Odd\n"
          ]
        }
      ],
      "source": [
        "# Interview question\n",
        "a = 97\n",
        "if a % 2 == 1:\n",
        "    print(\"Odd\")\n",
        "else:\n",
        "    print(\"Even\")"
      ]
    },
    {
      "cell_type": "code",
      "execution_count": null,
      "id": "371e35fc",
      "metadata": {
        "id": "371e35fc",
        "outputId": "13a1f0d6-2846-43bd-8609-a6bcf69cfc04"
      },
      "outputs": [
        {
          "name": "stdout",
          "output_type": "stream",
          "text": [
            "[1, 2, 'Hello']\n",
            "3\n"
          ]
        }
      ],
      "source": [
        "# Lists\n",
        "# Initialize a list\n",
        "mylist = []\n",
        "mylist.append(1)\n",
        "mylist.append(5%3)\n",
        "mylist.append(\"Hello\")\n",
        "print(mylist)\n",
        "\n",
        "# len: find the length (number of elements) of a list\n",
        "print(len(mylist))"
      ]
    },
    {
      "cell_type": "code",
      "execution_count": null,
      "id": "072af83d",
      "metadata": {
        "id": "072af83d",
        "outputId": "453d61a7-6b4f-41a1-e6f6-f539fa8dff75"
      },
      "outputs": [
        {
          "name": "stdout",
          "output_type": "stream",
          "text": [
            "[1, 3, 5, 2, 4, 6]\n"
          ]
        }
      ],
      "source": [
        "odd_numbers = [1,3,5]\n",
        "even_numbers = [2,4,6]\n",
        "nums = odd_numbers + even_numbers\n",
        "print(nums)"
      ]
    },
    {
      "cell_type": "code",
      "execution_count": null,
      "id": "adfb6577",
      "metadata": {
        "id": "adfb6577",
        "outputId": "52d1b35c-f1bc-41e9-8c39-f462bea92ad2"
      },
      "outputs": [
        {
          "name": "stdout",
          "output_type": "stream",
          "text": [
            "1\n"
          ]
        },
        {
          "ename": "IndexError",
          "evalue": "list index out of range",
          "output_type": "error",
          "traceback": [
            "\u001b[0;31m---------------------------------------------------------------------------\u001b[0m",
            "\u001b[0;31mIndexError\u001b[0m                                Traceback (most recent call last)",
            "\u001b[0;32m/var/folders/s1/6460_yvs6ggdv14vc1dsk_r40000gn/T/ipykernel_7810/4262254352.py\u001b[0m in \u001b[0;36m<module>\u001b[0;34m\u001b[0m\n\u001b[1;32m      1\u001b[0m \u001b[0;31m# Access elements of a list\u001b[0m\u001b[0;34m\u001b[0m\u001b[0;34m\u001b[0m\u001b[0m\n\u001b[1;32m      2\u001b[0m \u001b[0mprint\u001b[0m\u001b[0;34m(\u001b[0m\u001b[0mmylist\u001b[0m\u001b[0;34m[\u001b[0m\u001b[0;36m0\u001b[0m\u001b[0;34m]\u001b[0m\u001b[0;34m)\u001b[0m \u001b[0;31m# Starting position is 0\u001b[0m\u001b[0;34m\u001b[0m\u001b[0;34m\u001b[0m\u001b[0m\n\u001b[0;32m----> 3\u001b[0;31m \u001b[0mmylist\u001b[0m\u001b[0;34m[\u001b[0m\u001b[0mlen\u001b[0m\u001b[0;34m(\u001b[0m\u001b[0mmylist\u001b[0m\u001b[0;34m)\u001b[0m\u001b[0;34m]\u001b[0m\u001b[0;34m\u001b[0m\u001b[0;34m\u001b[0m\u001b[0m\n\u001b[0m\u001b[1;32m      4\u001b[0m \u001b[0;31m# print[len(mylist) - 1]\u001b[0m\u001b[0;34m\u001b[0m\u001b[0;34m\u001b[0m\u001b[0m\n",
            "\u001b[0;31mIndexError\u001b[0m: list index out of range"
          ]
        }
      ],
      "source": [
        "# Access elements of a list\n",
        "print(mylist[0]) # Starting position is 0\n",
        "mylist[len(mylist)] # list index out of range"
      ]
    },
    {
      "cell_type": "code",
      "execution_count": null,
      "id": "ab5afcf0",
      "metadata": {
        "id": "ab5afcf0",
        "outputId": "6ebbf0a0-51e3-480e-f6d7-b0e2da328ae8"
      },
      "outputs": [
        {
          "name": "stdout",
          "output_type": "stream",
          "text": [
            "Hello\n",
            "Hello\n"
          ]
        }
      ],
      "source": [
        "# Get the last item\n",
        "print(mylist[len(mylist) - 1])\n",
        "print(mylist[-1])"
      ]
    },
    {
      "cell_type": "code",
      "execution_count": null,
      "id": "97802a0a",
      "metadata": {
        "id": "97802a0a",
        "outputId": "8d927d33-428f-4e75-a651-4d040d36647a"
      },
      "outputs": [
        {
          "name": "stdout",
          "output_type": "stream",
          "text": [
            "2\n"
          ]
        }
      ],
      "source": [
        "print(mylist[-2])"
      ]
    },
    {
      "cell_type": "code",
      "execution_count": null,
      "id": "cfa77f08",
      "metadata": {
        "id": "cfa77f08",
        "outputId": "43248c49-bf1a-43ae-e932-9735f142e9f5"
      },
      "outputs": [
        {
          "name": "stdout",
          "output_type": "stream",
          "text": [
            "1\n"
          ]
        }
      ],
      "source": [
        "print(mylist[-3])"
      ]
    },
    {
      "cell_type": "code",
      "execution_count": null,
      "id": "9140b290",
      "metadata": {
        "id": "9140b290",
        "outputId": "6794ae39-1255-409c-aa55-a55766cb53f0"
      },
      "outputs": [
        {
          "ename": "IndexError",
          "evalue": "list index out of range",
          "output_type": "error",
          "traceback": [
            "\u001b[0;31m---------------------------------------------------------------------------\u001b[0m",
            "\u001b[0;31mIndexError\u001b[0m                                Traceback (most recent call last)",
            "\u001b[0;32m/var/folders/s1/6460_yvs6ggdv14vc1dsk_r40000gn/T/ipykernel_7810/111665933.py\u001b[0m in \u001b[0;36m<module>\u001b[0;34m\u001b[0m\n\u001b[0;32m----> 1\u001b[0;31m \u001b[0mprint\u001b[0m\u001b[0;34m(\u001b[0m\u001b[0mmylist\u001b[0m\u001b[0;34m[\u001b[0m\u001b[0;34m-\u001b[0m\u001b[0;36m4\u001b[0m\u001b[0;34m]\u001b[0m\u001b[0;34m)\u001b[0m\u001b[0;34m\u001b[0m\u001b[0;34m\u001b[0m\u001b[0m\n\u001b[0m",
            "\u001b[0;31mIndexError\u001b[0m: list index out of range"
          ]
        }
      ],
      "source": [
        "print(mylist[-4])"
      ]
    },
    {
      "cell_type": "code",
      "execution_count": null,
      "id": "f795c8bc",
      "metadata": {
        "id": "f795c8bc",
        "outputId": "fc4f9998-565c-476d-80c8-1764c138e33d"
      },
      "outputs": [
        {
          "data": {
            "text/plain": [
              "[1, 2]"
            ]
          },
          "execution_count": 44,
          "metadata": {},
          "output_type": "execute_result"
        }
      ],
      "source": [
        "# Select a group of values in a list using [starting index:ending index]\n",
        "b = [1, 2, 3, 4, 5, 6, 7, 8]\n",
        "b[0:2] # Start inclusively, end exclusively"
      ]
    },
    {
      "cell_type": "code",
      "execution_count": null,
      "id": "30708110",
      "metadata": {
        "id": "30708110",
        "outputId": "554b2345-a661-4c93-f4f4-931ca662d850"
      },
      "outputs": [
        {
          "data": {
            "text/plain": [
              "[3, 4, 5, 6, 7, 8]"
            ]
          },
          "execution_count": 45,
          "metadata": {},
          "output_type": "execute_result"
        }
      ],
      "source": [
        "# Access everything from the starting index to the end of the list\n",
        "b[2:]"
      ]
    },
    {
      "cell_type": "code",
      "execution_count": null,
      "id": "fa0a5f80",
      "metadata": {
        "id": "fa0a5f80",
        "outputId": "b62d26b7-22c2-4353-a1f0-2e1053ac2a6c"
      },
      "outputs": [
        {
          "data": {
            "text/plain": [
              "['apple', 'orange', 'banana', 'cherry']"
            ]
          },
          "execution_count": 46,
          "metadata": {},
          "output_type": "execute_result"
        }
      ],
      "source": [
        "fruits = [\"apple\", \"banana\", \"cherry\"]\n",
        "\n",
        "# insert\n",
        "fruits.insert(1, \"orange\") # Choose the index of an element you want to insert\n",
        "fruits"
      ]
    },
    {
      "cell_type": "code",
      "execution_count": null,
      "id": "9bced418",
      "metadata": {
        "id": "9bced418",
        "outputId": "7c86f0a7-9329-43ff-ae45-3e5c00f4327e"
      },
      "outputs": [
        {
          "data": {
            "text/plain": [
              "'orange'"
            ]
          },
          "execution_count": 47,
          "metadata": {},
          "output_type": "execute_result"
        }
      ],
      "source": [
        "# pop\n",
        "fruits.pop(1) # Choose the index of an element you want to remove"
      ]
    },
    {
      "cell_type": "code",
      "execution_count": null,
      "id": "08580587",
      "metadata": {
        "id": "08580587",
        "outputId": "475c5ba5-b301-4a6d-f89f-d24862718579"
      },
      "outputs": [
        {
          "name": "stdout",
          "output_type": "stream",
          "text": [
            "['apple', 'banana', 'cherry']\n"
          ]
        }
      ],
      "source": [
        "print(sorted(fruits))"
      ]
    },
    {
      "cell_type": "code",
      "execution_count": null,
      "id": "38ad357f",
      "metadata": {
        "id": "38ad357f",
        "outputId": "5bbfbae2-0fc5-4462-f2e5-0042df54c498"
      },
      "outputs": [
        {
          "name": "stdout",
          "output_type": "stream",
          "text": [
            "['cherry', 'banana', 'apple']\n"
          ]
        }
      ],
      "source": [
        "print(sorted(fruits, reverse = True))"
      ]
    },
    {
      "cell_type": "code",
      "execution_count": null,
      "id": "aff4eb2e",
      "metadata": {
        "id": "aff4eb2e",
        "outputId": "3939c0ca-4ad1-422b-93b3-20df4b5506f6"
      },
      "outputs": [
        {
          "name": "stdout",
          "output_type": "stream",
          "text": [
            "(1, 3, 5, 7)\n"
          ]
        }
      ],
      "source": [
        "# tuples\n",
        "thistuple=(1,3,5,7)\n",
        "print(thistuple)"
      ]
    },
    {
      "cell_type": "code",
      "execution_count": null,
      "id": "8eb41679",
      "metadata": {
        "id": "8eb41679",
        "outputId": "f8bf5bae-9391-4720-f571-46e244a2252b"
      },
      "outputs": [
        {
          "data": {
            "text/plain": [
              "1"
            ]
          },
          "execution_count": 55,
          "metadata": {},
          "output_type": "execute_result"
        }
      ],
      "source": [
        "thistuple[0]"
      ]
    },
    {
      "cell_type": "code",
      "execution_count": null,
      "id": "4a9650ac",
      "metadata": {
        "id": "4a9650ac",
        "outputId": "3e914547-b538-4460-a84c-caa8dc7b6e0d"
      },
      "outputs": [
        {
          "name": "stdout",
          "output_type": "stream",
          "text": [
            "{1, 3, 5, 54, 76}\n"
          ]
        }
      ],
      "source": [
        "# Sets: contain multiple data types; cannot have dulicated elements\n",
        "my_set={1,3,5,3,3,1,54,76}\n",
        "print(my_set)"
      ]
    },
    {
      "cell_type": "code",
      "execution_count": null,
      "id": "e36458ef",
      "metadata": {
        "id": "e36458ef",
        "outputId": "e279cb3e-c092-474b-8c06-a4d5aa131e8f"
      },
      "outputs": [
        {
          "name": "stdout",
          "output_type": "stream",
          "text": [
            "The number of unique ages is equal to 8 .\n"
          ]
        }
      ],
      "source": [
        "# Another useful example: find the number of unique values in a list\n",
        "ages = [36, 50, 89, 19, 99, 19, 20, 38, 38, 79, 89]\n",
        "age_set = set(ages)\n",
        "print(\"The number of unique ages is equal to\", len(age_set))"
      ]
    },
    {
      "cell_type": "code",
      "execution_count": null,
      "id": "389a9a04",
      "metadata": {
        "id": "389a9a04",
        "outputId": "90f3b937-468a-4744-f3a8-176cd5cbb219"
      },
      "outputs": [
        {
          "name": "stdout",
          "output_type": "stream",
          "text": [
            "{'USA': 'Washington D.C.', 'China': 'Beijing', 'UK': 'London', 'France': 'Paris', 'Brazil': 'Brasilia'}\n"
          ]
        }
      ],
      "source": [
        "# Dictionaries - key:value pairs\n",
        "# Create an empty dictionary\n",
        "my_dict = {}\n",
        "\n",
        "# Add an item into a dictionary, you assign dict[key]=value\n",
        "my_dict[\"USA\"]=\"Washington D.C.\"\n",
        "my_dict[\"China\"]=\"Beijing\"\n",
        "my_dict[\"UK\"]=\"London\"\n",
        "my_dict[\"France\"]=\"Paris\"\n",
        "my_dict[\"Brazil\"]=\"Rio De Janiero\"\n",
        "\n",
        "# To replace a value in the dictionary, you can reassign the key's value to another value\n",
        "my_dict[\"Brazil\"]=\"Brasilia\"\n",
        "\n",
        "print(my_dict)"
      ]
    },
    {
      "cell_type": "code",
      "execution_count": null,
      "id": "962669ee",
      "metadata": {
        "id": "962669ee"
      },
      "outputs": [],
      "source": [
        "# Access the value of a particular key\n",
        "print(my_dict[\"UK\"])\n",
        "\n",
        "# Access all values\n",
        "print(my_dict.values())\n",
        "\n",
        "# Access all keys\n",
        "print(my_dict.keys())\n",
        "\n",
        "# Convert all keys into a list\n",
        "list(my_dict.keys())"
      ]
    },
    {
      "cell_type": "code",
      "execution_count": null,
      "id": "241eefe9",
      "metadata": {
        "id": "241eefe9",
        "outputId": "496b37c7-e14b-4d26-9b3e-05b9304c090c"
      },
      "outputs": [
        {
          "name": "stdout",
          "output_type": "stream",
          "text": [
            "dict_items([('USA', 'Washington D.C.'), ('China', 'Beijing'), ('UK', 'London'), ('France', 'Paris'), ('Brazil', 'Brasilia')])\n"
          ]
        }
      ],
      "source": [
        "# Lots of coding assignments and interview\n",
        "print(my_dict.items())"
      ]
    },
    {
      "cell_type": "code",
      "execution_count": null,
      "id": "43370b26",
      "metadata": {
        "id": "43370b26",
        "outputId": "c9c2bada-cc4a-4340-b704-e0049d0c25b6"
      },
      "outputs": [
        {
          "name": "stdout",
          "output_type": "stream",
          "text": [
            "[('Brazil', 'Brasilia'), ('China', 'Beijing'), ('France', 'Paris'), ('UK', 'London'), ('USA', 'Washington D.C.')]\n"
          ]
        }
      ],
      "source": [
        "# Sort a dictionary by key\n",
        "print(sorted(my_dict.items())) # A list of tuples"
      ]
    },
    {
      "cell_type": "code",
      "execution_count": null,
      "id": "2ef632a6",
      "metadata": {
        "id": "2ef632a6",
        "outputId": "c2cd45fe-bfd4-41bd-b50b-ca4919228dfb"
      },
      "outputs": [
        {
          "name": "stdout",
          "output_type": "stream",
          "text": [
            "{'Brazil': 'Brasilia', 'China': 'Beijing', 'France': 'Paris', 'UK': 'London', 'USA': 'Washington D.C.'}\n"
          ]
        }
      ],
      "source": [
        "# Convert a list of tuples into a dictionary\n",
        "print(dict(sorted(my_dict.items())))"
      ]
    },
    {
      "cell_type": "code",
      "execution_count": null,
      "id": "df1ce1e1",
      "metadata": {
        "id": "df1ce1e1",
        "outputId": "3387e5e1-cde6-4f00-8888-dad20301e32a"
      },
      "outputs": [
        {
          "name": "stdout",
          "output_type": "stream",
          "text": [
            "{'China': 'Beijing', 'Brazil': 'Brasilia', 'UK': 'London', 'France': 'Paris', 'USA': 'Washington D.C.'}\n"
          ]
        }
      ],
      "source": [
        "# Sort a dictionary by value\n",
        "# Study lambda; Daniel 没讲清楚\n",
        "print(dict(sorted(my_dict.items(), key=lambda item:item[1])))"
      ]
    },
    {
      "cell_type": "code",
      "execution_count": null,
      "id": "4f6b8fcf",
      "metadata": {
        "id": "4f6b8fcf",
        "outputId": "0fc5c08a-50c1-4837-a24f-644e8b279f06"
      },
      "outputs": [
        {
          "name": "stdout",
          "output_type": "stream",
          "text": [
            "2\n",
            "3\n",
            "5\n",
            "7\n"
          ]
        }
      ],
      "source": [
        "# For loop\n",
        "primes=[2,3,5,7]\n",
        "for prime in primes:\n",
        "    print(prime)"
      ]
    },
    {
      "cell_type": "code",
      "execution_count": null,
      "id": "0a4aab81",
      "metadata": {
        "id": "0a4aab81",
        "outputId": "ee8cbf7b-9ea3-4dcb-bd90-a317985e5865"
      },
      "outputs": [
        {
          "name": "stdout",
          "output_type": "stream",
          "text": [
            "2\n",
            "3\n",
            "5\n",
            "7\n"
          ]
        }
      ],
      "source": [
        "for i in range(len(primes)): # Range creates a list of values from 0 until the length of a list - 1\n",
        "    print(primes[i])"
      ]
    },
    {
      "cell_type": "code",
      "execution_count": null,
      "id": "3bddac50",
      "metadata": {
        "id": "3bddac50"
      },
      "outputs": [],
      "source": [
        "# In a loop, you can use conditionals to help filter specific values\n",
        "primes=[2,3,5,7,11]\n",
        "for p in primes:\n",
        "    if p != 5 and p%2 == 1:\n",
        "        print(p)"
      ]
    },
    {
      "cell_type": "code",
      "execution_count": null,
      "id": "94625329",
      "metadata": {
        "id": "94625329",
        "outputId": "b90998ae-5be8-47c0-db9c-d80d3df83d70"
      },
      "outputs": [
        {
          "name": "stdout",
          "output_type": "stream",
          "text": [
            "3\n"
          ]
        }
      ],
      "source": [
        "primes=[2,3,5,7,11]\n",
        "for p in primes:\n",
        "    if p != 5 and p%2 == 1:\n",
        "        print(p)\n",
        "        break"
      ]
    },
    {
      "cell_type": "code",
      "execution_count": null,
      "id": "41a4c9e3",
      "metadata": {
        "id": "41a4c9e3",
        "outputId": "2cb8376b-6650-45e8-b292-eb9a47333a2a"
      },
      "outputs": [
        {
          "name": "stdout",
          "output_type": "stream",
          "text": [
            "3\n",
            "7\n",
            "11\n"
          ]
        }
      ],
      "source": [
        "primes=[2,3,5,7,11]\n",
        "for p in primes:\n",
        "    if p != 5 and p%2 == 1:\n",
        "        print(p)\n",
        "        pass"
      ]
    },
    {
      "cell_type": "code",
      "execution_count": null,
      "id": "2ac4e91f",
      "metadata": {
        "id": "2ac4e91f",
        "outputId": "5a4be5f3-6881-440e-8bad-005e5acdcb65"
      },
      "outputs": [
        {
          "name": "stdout",
          "output_type": "stream",
          "text": [
            "3\n",
            "7\n",
            "11\n"
          ]
        }
      ],
      "source": [
        "primes=[2,3,5,7,11]\n",
        "for p in primes:\n",
        "    if p != 5 and p%2 == 1:\n",
        "        print(p)\n",
        "        continue"
      ]
    },
    {
      "cell_type": "code",
      "execution_count": null,
      "id": "24aafb52",
      "metadata": {
        "id": "24aafb52",
        "outputId": "ebd1ebcb-3f3c-468b-84ce-278332446904"
      },
      "outputs": [
        {
          "data": {
            "text/plain": [
              "[3, 7, 11]"
            ]
          },
          "execution_count": 74,
          "metadata": {},
          "output_type": "execute_result"
        }
      ],
      "source": [
        "# List comprehensions\n",
        "# https://www.w3schools.com/python/python_lists_comprehension.asp\n",
        "primes=[2,3,5,7,11]\n",
        "not_5_odds=[]\n",
        "for p in primes:\n",
        "    if p != 5 and p%2 == 1:\n",
        "        not_5_odds.append(p)\n",
        "not_5_odds"
      ]
    },
    {
      "cell_type": "code",
      "execution_count": null,
      "id": "1f734574",
      "metadata": {
        "id": "1f734574"
      },
      "outputs": [],
      "source": [
        "not_5_odds=[p for p in primes if p!=5 and p%2 == 1]"
      ]
    },
    {
      "cell_type": "code",
      "execution_count": null,
      "id": "c84c147c",
      "metadata": {
        "id": "c84c147c",
        "outputId": "0a92abb5-c147-45cf-ae45-d546063685e2"
      },
      "outputs": [
        {
          "data": {
            "text/plain": [
              "[3, 7, 11]"
            ]
          },
          "execution_count": 76,
          "metadata": {},
          "output_type": "execute_result"
        }
      ],
      "source": [
        "not_5_odds"
      ]
    },
    {
      "cell_type": "code",
      "execution_count": null,
      "id": "7cc33f35",
      "metadata": {
        "id": "7cc33f35",
        "outputId": "0483180e-9d10-4f3b-926c-b2c3dc621cbb"
      },
      "outputs": [
        {
          "name": "stdout",
          "output_type": "stream",
          "text": [
            "Multiply 4 and 3\n",
            "12 7\n"
          ]
        }
      ],
      "source": [
        "def multiply(x,y):\n",
        "    print(\"Multiply\", x, \"and\", y)\n",
        "    result=x*y\n",
        "    su=x+y\n",
        "    return result,su\n",
        "\n",
        "v=4\n",
        "b=3\n",
        "prod,su=multiply(v,b)\n",
        "prod\n",
        "print(prod,su)"
      ]
    },
    {
      "cell_type": "code",
      "execution_count": null,
      "id": "9925503f",
      "metadata": {
        "id": "9925503f",
        "outputId": "9c7e2ca8-89cc-4cfa-94c3-9b29019a4f6d"
      },
      "outputs": [
        {
          "name": "stdout",
          "output_type": "stream",
          "text": [
            "Multiply 4 and 3\n",
            "12 7\n"
          ]
        }
      ],
      "source": [
        "def multiply(x,y):\n",
        "    print(\"Multiply {} and {}\".format(x, y))\n",
        "    result=x*y\n",
        "    su=x+y\n",
        "    return result,su\n",
        "\n",
        "v=4\n",
        "b=3\n",
        "prod,su=multiply(v,b)\n",
        "prod\n",
        "print(prod,su)"
      ]
    },
    {
      "cell_type": "code",
      "execution_count": null,
      "id": "5ada7e7b",
      "metadata": {
        "id": "5ada7e7b"
      },
      "outputs": [],
      "source": []
    }
  ],
  "metadata": {
    "kernelspec": {
      "display_name": "Python 3 (ipykernel)",
      "language": "python",
      "name": "python3"
    },
    "language_info": {
      "codemirror_mode": {
        "name": "ipython",
        "version": 3
      },
      "file_extension": ".py",
      "mimetype": "text/x-python",
      "name": "python",
      "nbconvert_exporter": "python",
      "pygments_lexer": "ipython3",
      "version": "3.9.7"
    },
    "colab": {
      "provenance": [],
      "toc_visible": true,
      "include_colab_link": true
    }
  },
  "nbformat": 4,
  "nbformat_minor": 5
}