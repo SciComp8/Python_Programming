# Add timing to every block automatically
!pip install ipython-autotime
%load_ext autotime
