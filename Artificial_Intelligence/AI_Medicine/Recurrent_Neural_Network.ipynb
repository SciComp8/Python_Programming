{
 "cells": [
  {
   "cell_type": "markdown",
   "metadata": {},
   "source": [
    "# Recurrent Neural Network"
   ]
  },
  {
   "cell_type": "code",
   "execution_count": 2,
   "metadata": {},
   "outputs": [],
   "source": [
    "import torch\n",
    "from torch import nn\n",
    "import torchvision.datasets as dsets\n",
    "import torchvision.transforms as transforms\n",
    "import matplotlib.pyplot as plt"
   ]
  },
  {
   "cell_type": "code",
   "execution_count": 4,
   "metadata": {},
   "outputs": [],
   "source": [
    "# configure hyperparameters\n",
    "EPOCH = 1                # epoch: train the training data n times; 1 epoch is used here to save training time\n",
    "BATCH_SIZE = 64\n",
    "TIME_STEP = 28           # time_step: rnn time step / image height\n",
    "INPUT_SIZE = 28          # input_size: rnn input size / image width\n",
    "LR = 0.01                # lr: learning rate\n",
    "DOWNLOAD_MNIST = False   # download_mnist: set it to True if the mnist data has not been downloaded"
   ]
  },
  {
   "cell_type": "code",
   "execution_count": 5,
   "metadata": {},
   "outputs": [],
   "source": [
    "# get mnist digital dataset\n",
    "train_data = dsets.MNIST(\n",
    "    root='data/mnist/',\n",
    "    train=True,                         # set up the training data\n",
    "    transform=transforms.ToTensor(),    # convert a PIL.Image or numpy.ndarray to torch.FloatTensor of shape (C x H x W) and normalize it in the range [0.0, 1.0]\n",
    "    download=DOWNLOAD_MNIST,            # download the mnist data if non-exist\n",
    ")"
   ]
  },
  {
   "cell_type": "code",
   "execution_count": 6,
   "metadata": {},
   "outputs": [],
   "source": [
    "# configure training data loader for easy mini-batch return\n",
    "train_loader = torch.utils.data.DataLoader(dataset=train_data, batch_size=BATCH_SIZE, shuffle=True)"
   ]
  },
  {
   "cell_type": "code",
   "execution_count": 8,
   "metadata": {},
   "outputs": [],
   "source": [
    "# convert test data into variables; select 2000 samples to accelerate testing\n",
    "test_data = dsets.MNIST(root='data/mnist/', train=False, transform=transforms.ToTensor())\n",
    "test_x = test_data.test_data.type(torch.FloatTensor)[:2000]/255. # shape (2000, 28, 28) value in range(0,1)\n",
    "test_y = test_data.test_labels.numpy()[:2000] # covert to numpy array"
   ]
  },
  {
   "cell_type": "code",
   "execution_count": 9,
   "metadata": {},
   "outputs": [],
   "source": [
    "# build the rnn architecture\n",
    "class RNN(nn.Module):\n",
    "    def __init__(self):\n",
    "        super(RNN, self).__init__()\n",
    "\n",
    "        self.rnn = nn.LSTM(         # not use nn.RNN() here, as it hardly learns the parameters\n",
    "            input_size=INPUT_SIZE,\n",
    "            hidden_size=64,         # hidden_size: rnn hidden unit dimensionality\n",
    "            num_layers=1,           # num_layers: number of rnn layers\n",
    "            batch_first=True,       # batch_first: input and output will has batch size as 1st dimension. e.g. (batch, time_step, input_size)\n",
    "        )\n",
    "\n",
    "        self.out = nn.Linear(64, 10)\n",
    "\n",
    "    def forward(self, x):\n",
    "        # x shape (batch, time_step, input_size)\n",
    "        # r_out shape (batch, time_step, output_size)\n",
    "        # h_n shape (n_layers, batch, hidden_size)\n",
    "        # h_c shape (n_layers, batch, hidden_size)\n",
    "        r_out, (h_n, h_c) = self.rnn(x, None)   # None means zero initial hidden state\n",
    "\n",
    "        # choose r_out at the last time step\n",
    "        out = self.out(r_out[:, -1, :])\n",
    "        return out"
   ]
  },
  {
   "cell_type": "code",
   "execution_count": 10,
   "metadata": {},
   "outputs": [
    {
     "name": "stdout",
     "output_type": "stream",
     "text": [
      "RNN(\n",
      "  (rnn): LSTM(28, 64, batch_first=True)\n",
      "  (out): Linear(in_features=64, out_features=10, bias=True)\n",
      ")\n"
     ]
    }
   ],
   "source": [
    "rnn = RNN()\n",
    "print(rnn)"
   ]
  },
  {
   "cell_type": "code",
   "execution_count": 11,
   "metadata": {},
   "outputs": [],
   "source": [
    "optimizer = torch.optim.Adam(rnn.parameters(), lr=LR)   \n",
    "loss_func = nn.CrossEntropyLoss()                       "
   ]
  },
  {
   "cell_type": "code",
   "execution_count": 12,
   "metadata": {},
   "outputs": [
    {
     "name": "stdout",
     "output_type": "stream",
     "text": [
      "Epoch:  0 | train loss: 2.3006 | test accuracy: 0.10\n",
      "Epoch:  0 | train loss: 1.2295 | test accuracy: 0.56\n",
      "Epoch:  0 | train loss: 0.6107 | test accuracy: 0.75\n",
      "Epoch:  0 | train loss: 0.6255 | test accuracy: 0.82\n",
      "Epoch:  0 | train loss: 0.4475 | test accuracy: 0.86\n",
      "Epoch:  0 | train loss: 0.3409 | test accuracy: 0.88\n",
      "Epoch:  0 | train loss: 0.2818 | test accuracy: 0.91\n",
      "Epoch:  0 | train loss: 0.2736 | test accuracy: 0.90\n",
      "Epoch:  0 | train loss: 0.3692 | test accuracy: 0.93\n",
      "Epoch:  0 | train loss: 0.0663 | test accuracy: 0.94\n",
      "Epoch:  0 | train loss: 0.1243 | test accuracy: 0.93\n",
      "Epoch:  0 | train loss: 0.1971 | test accuracy: 0.94\n",
      "Epoch:  0 | train loss: 0.0638 | test accuracy: 0.94\n",
      "Epoch:  0 | train loss: 0.1598 | test accuracy: 0.95\n",
      "Epoch:  0 | train loss: 0.1742 | test accuracy: 0.94\n",
      "Epoch:  0 | train loss: 0.0557 | test accuracy: 0.95\n",
      "Epoch:  0 | train loss: 0.0577 | test accuracy: 0.95\n",
      "Epoch:  0 | train loss: 0.2175 | test accuracy: 0.96\n",
      "Epoch:  0 | train loss: 0.1038 | test accuracy: 0.97\n"
     ]
    }
   ],
   "source": [
    "# training and testing\n",
    "for epoch in range(EPOCH):\n",
    "    for step, (b_x, b_y) in enumerate(train_loader):    # feed batch data\n",
    "        b_x = b_x.view(-1, 28, 28)                      # reshape x to (batch, time_step, input_size)\n",
    "\n",
    "        output = rnn(b_x)                               # rnn output\n",
    "        loss = loss_func(output, b_y)                   # cross entropy loss\n",
    "        optimizer.zero_grad()                           # clear gradients for this training step\n",
    "        loss.backward()                                 # backpropagation, compute gradients\n",
    "        optimizer.step()                                # apply gradients\n",
    "\n",
    "        if step % 50 == 0:\n",
    "            test_output = rnn(test_x)                   # (samples, time_step, input_size)\n",
    "            pred_y = torch.max(test_output, 1)[1].data.numpy()\n",
    "            accuracy = float((pred_y == test_y).astype(int).sum()) / float(test_y.size)\n",
    "            print('Epoch: ', epoch, '| train loss: %.4f' % loss.data.numpy(), '| test accuracy: %.2f' % accuracy)"
   ]
  },
  {
   "cell_type": "code",
   "execution_count": 13,
   "metadata": {},
   "outputs": [
    {
     "name": "stdout",
     "output_type": "stream",
     "text": [
      "[7 2 1 0 4 1 4 9 5 9] prediction number\n",
      "[7 2 1 0 4 1 4 9 5 9] real number\n"
     ]
    }
   ],
   "source": [
    "# print 10 predictions from test data\n",
    "test_output = rnn(test_x[:10].view(-1, 28, 28))\n",
    "pred_y = torch.max(test_output, 1)[1].data.numpy()\n",
    "print(pred_y, 'prediction number')\n",
    "print(test_y[:10], 'real number')"
   ]
  }
 ],
 "metadata": {
  "kernelspec": {
   "display_name": "Python 3 (ipykernel)",
   "language": "python",
   "name": "python3"
  },
  "language_info": {
   "codemirror_mode": {
    "name": "ipython",
    "version": 3
   },
   "file_extension": ".py",
   "mimetype": "text/x-python",
   "name": "python",
   "nbconvert_exporter": "python",
   "pygments_lexer": "ipython3",
   "version": "3.8.18"
  }
 },
 "nbformat": 4,
 "nbformat_minor": 4
}
