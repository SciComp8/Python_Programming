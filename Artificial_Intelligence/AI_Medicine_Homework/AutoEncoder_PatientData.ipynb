{
 "cells": [
  {
   "cell_type": "markdown",
   "metadata": {},
   "source": [
    "# Learning low-dimensional patient representations using AutoEncoder"
   ]
  },
  {
   "cell_type": "markdown",
   "metadata": {},
   "source": [
    "Data: Critically ill patients in MIMIC-III"
   ]
  },
  {
   "cell_type": "code",
   "execution_count": 1,
   "metadata": {},
   "outputs": [],
   "source": [
    "# Remove all warning messages\n",
    "import warnings\n",
    "warnings.filterwarnings('ignore')"
   ]
  },
  {
   "cell_type": "code",
   "execution_count": 2,
   "metadata": {},
   "outputs": [],
   "source": [
    "# Load data set into DataFrame\n",
    "import pandas as pd\n",
    "import numpy as np\n",
    "\n",
    "data = pd.read_csv('data/in_hospital_mortality_48_hour_chunk_6.csv', \n",
    "                  header = 0)"
   ]
  },
  {
   "cell_type": "code",
   "execution_count": 3,
   "metadata": {},
   "outputs": [
    {
     "data": {
      "text/plain": [
       "(17903, 674)"
      ]
     },
     "execution_count": 3,
     "metadata": {},
     "output_type": "execute_result"
    }
   ],
   "source": [
    "data.shape"
   ]
  },
  {
   "cell_type": "code",
   "execution_count": 59,
   "metadata": {},
   "outputs": [
    {
     "name": "stdout",
     "output_type": "stream",
     "text": [
      "Number of cases:  2423\n",
      "Number of controls :  15480\n",
      "\n",
      "Proportion of case: 13.53%\n"
     ]
    },
    {
     "data": {
      "image/png": "[encoded data removed]",
      "text/plain": [
       "<Figure size 432x288 with 1 Axes>"
      ]
     },
     "metadata": {
      "needs_background": "light"
     },
     "output_type": "display_data"
    }
   ],
   "source": [
    "# Explore the number of cases (death) and controls (alive finally) \n",
    "\n",
    "n_case = len(data[data['label'] == 1])\n",
    "n_control = len(data[data['label'] == 0]) \n",
    "\n",
    "print('Number of cases: ', n_case) \n",
    "print('Number of controls : ', n_control)\n",
    "print()\n",
    "print('Proportion of case: %.2f%%' % (100 * n_case / (n_control + n_case)))\n",
    "\n",
    "\n",
    "# Visualize case-control distribution\n",
    "\n",
    "import matplotlib.pyplot as plt\n",
    "plt.bar(['Cases (death)','Controls (alive, discharge)'], [n_case, n_control]) \n",
    "\n",
    "plt.ylabel('number of subjects')\n",
    "\n",
    "plt.show()"
   ]
  },
  {
   "cell_type": "code",
   "execution_count": 5,
   "metadata": {},
   "outputs": [
    {
     "name": "stdout",
     "output_type": "stream",
     "text": [
      "Subj                                  0.000000\n",
      "Capillary refill rate_0_6_max         0.991175\n",
      "Diastolic blood pressure_0_6_max      0.032062\n",
      "Fraction inspired oxygen_0_6_max      0.763838\n",
      "Glascow coma scale total_0_6_max      0.458582\n",
      "                                        ...   \n",
      "Systolic blood pressure_42_48_skew    0.021002\n",
      "Temperature_42_48_skew                0.065017\n",
      "Weight_42_48_skew                     0.883148\n",
      "pH_42_48_skew                         0.715187\n",
      "label                                 0.000000\n",
      "Length: 674, dtype: float64\n"
     ]
    }
   ],
   "source": [
    "# Evaluate missing values\n",
    "print(data.isnull().sum() / len(data))"
   ]
  },
  {
   "cell_type": "code",
   "execution_count": 6,
   "metadata": {},
   "outputs": [
    {
     "data": {
      "text/html": [
       "<div>\n",
       "<style scoped>\n",
       "    .dataframe tbody tr th:only-of-type {\n",
       "        vertical-align: middle;\n",
       "    }\n",
       "\n",
       "    .dataframe tbody tr th {\n",
       "        vertical-align: top;\n",
       "    }\n",
       "\n",
       "    .dataframe thead th {\n",
       "        text-align: right;\n",
       "    }\n",
       "</style>\n",
       "<table border=\"1\" class=\"dataframe\">\n",
       "  <thead>\n",
       "    <tr style=\"text-align: right;\">\n",
       "      <th></th>\n",
       "      <th>Capillary refill rate_0_6_max</th>\n",
       "      <th>Diastolic blood pressure_0_6_max</th>\n",
       "      <th>Fraction inspired oxygen_0_6_max</th>\n",
       "      <th>Glascow coma scale total_0_6_max</th>\n",
       "      <th>Glucose_0_6_max</th>\n",
       "      <th>Heart Rate_0_6_max</th>\n",
       "      <th>Height_0_6_max</th>\n",
       "      <th>Mean blood pressure_0_6_max</th>\n",
       "      <th>Oxygen saturation_0_6_max</th>\n",
       "      <th>Respiratory rate_0_6_max</th>\n",
       "      <th>...</th>\n",
       "      <th>Glucose_42_48_skew</th>\n",
       "      <th>Heart Rate_42_48_skew</th>\n",
       "      <th>Height_42_48_skew</th>\n",
       "      <th>Mean blood pressure_42_48_skew</th>\n",
       "      <th>Oxygen saturation_42_48_skew</th>\n",
       "      <th>Respiratory rate_42_48_skew</th>\n",
       "      <th>Systolic blood pressure_42_48_skew</th>\n",
       "      <th>Temperature_42_48_skew</th>\n",
       "      <th>Weight_42_48_skew</th>\n",
       "      <th>pH_42_48_skew</th>\n",
       "    </tr>\n",
       "  </thead>\n",
       "  <tbody>\n",
       "    <tr>\n",
       "      <th>count</th>\n",
       "      <td>158.000000</td>\n",
       "      <td>17329.000000</td>\n",
       "      <td>4228.000000</td>\n",
       "      <td>9693.000000</td>\n",
       "      <td>14859.000000</td>\n",
       "      <td>17328.000000</td>\n",
       "      <td>1954.000000</td>\n",
       "      <td>17312.000000</td>\n",
       "      <td>17430.000000</td>\n",
       "      <td>1.729400e+04</td>\n",
       "      <td>...</td>\n",
       "      <td>12566.000000</td>\n",
       "      <td>17542.000000</td>\n",
       "      <td>186.0</td>\n",
       "      <td>17476.000000</td>\n",
       "      <td>17377.000000</td>\n",
       "      <td>17421.000000</td>\n",
       "      <td>17527.000000</td>\n",
       "      <td>16739.000000</td>\n",
       "      <td>2092.000000</td>\n",
       "      <td>5099.000000</td>\n",
       "    </tr>\n",
       "    <tr>\n",
       "      <th>mean</th>\n",
       "      <td>0.227848</td>\n",
       "      <td>89.944947</td>\n",
       "      <td>0.762594</td>\n",
       "      <td>11.235221</td>\n",
       "      <td>176.647890</td>\n",
       "      <td>97.773777</td>\n",
       "      <td>168.357728</td>\n",
       "      <td>96.209777</td>\n",
       "      <td>99.107263</td>\n",
       "      <td>1.603812e+02</td>\n",
       "      <td>...</td>\n",
       "      <td>0.018496</td>\n",
       "      <td>0.164419</td>\n",
       "      <td>0.0</td>\n",
       "      <td>0.122570</td>\n",
       "      <td>-0.337341</td>\n",
       "      <td>0.076805</td>\n",
       "      <td>0.032787</td>\n",
       "      <td>0.000338</td>\n",
       "      <td>0.002711</td>\n",
       "      <td>-0.024231</td>\n",
       "    </tr>\n",
       "    <tr>\n",
       "      <th>std</th>\n",
       "      <td>0.420778</td>\n",
       "      <td>1156.785889</td>\n",
       "      <td>0.255512</td>\n",
       "      <td>4.163617</td>\n",
       "      <td>134.846511</td>\n",
       "      <td>22.766559</td>\n",
       "      <td>16.346462</td>\n",
       "      <td>53.586899</td>\n",
       "      <td>6.682211</td>\n",
       "      <td>1.791189e+04</td>\n",
       "      <td>...</td>\n",
       "      <td>0.273092</td>\n",
       "      <td>0.699109</td>\n",
       "      <td>0.0</td>\n",
       "      <td>0.705537</td>\n",
       "      <td>0.845839</td>\n",
       "      <td>0.798692</td>\n",
       "      <td>0.658855</td>\n",
       "      <td>0.249274</td>\n",
       "      <td>0.105190</td>\n",
       "      <td>0.264073</td>\n",
       "    </tr>\n",
       "    <tr>\n",
       "      <th>min</th>\n",
       "      <td>0.000000</td>\n",
       "      <td>25.000000</td>\n",
       "      <td>0.000000</td>\n",
       "      <td>3.000000</td>\n",
       "      <td>35.000000</td>\n",
       "      <td>33.000000</td>\n",
       "      <td>0.000000</td>\n",
       "      <td>31.000000</td>\n",
       "      <td>43.000000</td>\n",
       "      <td>0.000000e+00</td>\n",
       "      <td>...</td>\n",
       "      <td>-1.933405</td>\n",
       "      <td>-2.855201</td>\n",
       "      <td>0.0</td>\n",
       "      <td>-2.514505</td>\n",
       "      <td>-6.851991</td>\n",
       "      <td>-4.364358</td>\n",
       "      <td>-2.892597</td>\n",
       "      <td>-2.842783</td>\n",
       "      <td>-2.041241</td>\n",
       "      <td>-2.041241</td>\n",
       "    </tr>\n",
       "    <tr>\n",
       "      <th>25%</th>\n",
       "      <td>0.000000</td>\n",
       "      <td>64.000000</td>\n",
       "      <td>0.500000</td>\n",
       "      <td>8.000000</td>\n",
       "      <td>120.000000</td>\n",
       "      <td>83.000000</td>\n",
       "      <td>160.000000</td>\n",
       "      <td>82.000000</td>\n",
       "      <td>99.000000</td>\n",
       "      <td>1.900000e+01</td>\n",
       "      <td>...</td>\n",
       "      <td>0.000000</td>\n",
       "      <td>-0.283633</td>\n",
       "      <td>0.0</td>\n",
       "      <td>-0.336710</td>\n",
       "      <td>-0.795495</td>\n",
       "      <td>-0.381802</td>\n",
       "      <td>-0.406019</td>\n",
       "      <td>0.000000</td>\n",
       "      <td>0.000000</td>\n",
       "      <td>0.000000</td>\n",
       "    </tr>\n",
       "    <tr>\n",
       "      <th>50%</th>\n",
       "      <td>0.000000</td>\n",
       "      <td>74.000000</td>\n",
       "      <td>0.950000</td>\n",
       "      <td>13.000000</td>\n",
       "      <td>152.000000</td>\n",
       "      <td>95.000000</td>\n",
       "      <td>170.000000</td>\n",
       "      <td>92.000000</td>\n",
       "      <td>100.000000</td>\n",
       "      <td>2.300000e+01</td>\n",
       "      <td>...</td>\n",
       "      <td>0.000000</td>\n",
       "      <td>0.134020</td>\n",
       "      <td>0.0</td>\n",
       "      <td>0.084401</td>\n",
       "      <td>-0.213454</td>\n",
       "      <td>0.030105</td>\n",
       "      <td>0.001134</td>\n",
       "      <td>0.000000</td>\n",
       "      <td>0.000000</td>\n",
       "      <td>0.000000</td>\n",
       "    </tr>\n",
       "    <tr>\n",
       "      <th>75%</th>\n",
       "      <td>0.000000</td>\n",
       "      <td>85.000000</td>\n",
       "      <td>1.000000</td>\n",
       "      <td>15.000000</td>\n",
       "      <td>195.000000</td>\n",
       "      <td>111.000000</td>\n",
       "      <td>178.000000</td>\n",
       "      <td>105.000000</td>\n",
       "      <td>100.000000</td>\n",
       "      <td>2.800000e+01</td>\n",
       "      <td>...</td>\n",
       "      <td>0.000000</td>\n",
       "      <td>0.624383</td>\n",
       "      <td>0.0</td>\n",
       "      <td>0.577609</td>\n",
       "      <td>0.105275</td>\n",
       "      <td>0.585756</td>\n",
       "      <td>0.470131</td>\n",
       "      <td>0.000000</td>\n",
       "      <td>0.000000</td>\n",
       "      <td>0.000000</td>\n",
       "    </tr>\n",
       "    <tr>\n",
       "      <th>max</th>\n",
       "      <td>1.000000</td>\n",
       "      <td>114108.980000</td>\n",
       "      <td>1.990000</td>\n",
       "      <td>15.000000</td>\n",
       "      <td>9999.000000</td>\n",
       "      <td>941.000000</td>\n",
       "      <td>429.000000</td>\n",
       "      <td>6350.000000</td>\n",
       "      <td>925.000000</td>\n",
       "      <td>2.355555e+06</td>\n",
       "      <td>...</td>\n",
       "      <td>2.261069</td>\n",
       "      <td>4.364358</td>\n",
       "      <td>0.0</td>\n",
       "      <td>9.058773</td>\n",
       "      <td>2.666667</td>\n",
       "      <td>6.979017</td>\n",
       "      <td>3.144125</td>\n",
       "      <td>2.660162</td>\n",
       "      <td>1.154701</td>\n",
       "      <td>2.008034</td>\n",
       "    </tr>\n",
       "  </tbody>\n",
       "</table>\n",
       "<p>8 rows × 672 columns</p>\n",
       "</div>"
      ],
      "text/plain": [
       "       Capillary refill rate_0_6_max  Diastolic blood pressure_0_6_max  \\\n",
       "count                     158.000000                      17329.000000   \n",
       "mean                        0.227848                         89.944947   \n",
       "std                         0.420778                       1156.785889   \n",
       "min                         0.000000                         25.000000   \n",
       "25%                         0.000000                         64.000000   \n",
       "50%                         0.000000                         74.000000   \n",
       "75%                         0.000000                         85.000000   \n",
       "max                         1.000000                     114108.980000   \n",
       "\n",
       "       Fraction inspired oxygen_0_6_max  Glascow coma scale total_0_6_max  \\\n",
       "count                       4228.000000                       9693.000000   \n",
       "mean                           0.762594                         11.235221   \n",
       "std                            0.255512                          4.163617   \n",
       "min                            0.000000                          3.000000   \n",
       "25%                            0.500000                          8.000000   \n",
       "50%                            0.950000                         13.000000   \n",
       "75%                            1.000000                         15.000000   \n",
       "max                            1.990000                         15.000000   \n",
       "\n",
       "       Glucose_0_6_max  Heart Rate_0_6_max  Height_0_6_max  \\\n",
       "count     14859.000000        17328.000000     1954.000000   \n",
       "mean        176.647890           97.773777      168.357728   \n",
       "std         134.846511           22.766559       16.346462   \n",
       "min          35.000000           33.000000        0.000000   \n",
       "25%         120.000000           83.000000      160.000000   \n",
       "50%         152.000000           95.000000      170.000000   \n",
       "75%         195.000000          111.000000      178.000000   \n",
       "max        9999.000000          941.000000      429.000000   \n",
       "\n",
       "       Mean blood pressure_0_6_max  Oxygen saturation_0_6_max  \\\n",
       "count                 17312.000000               17430.000000   \n",
       "mean                     96.209777                  99.107263   \n",
       "std                      53.586899                   6.682211   \n",
       "min                      31.000000                  43.000000   \n",
       "25%                      82.000000                  99.000000   \n",
       "50%                      92.000000                 100.000000   \n",
       "75%                     105.000000                 100.000000   \n",
       "max                    6350.000000                 925.000000   \n",
       "\n",
       "       Respiratory rate_0_6_max  ...  Glucose_42_48_skew  \\\n",
       "count              1.729400e+04  ...        12566.000000   \n",
       "mean               1.603812e+02  ...            0.018496   \n",
       "std                1.791189e+04  ...            0.273092   \n",
       "min                0.000000e+00  ...           -1.933405   \n",
       "25%                1.900000e+01  ...            0.000000   \n",
       "50%                2.300000e+01  ...            0.000000   \n",
       "75%                2.800000e+01  ...            0.000000   \n",
       "max                2.355555e+06  ...            2.261069   \n",
       "\n",
       "       Heart Rate_42_48_skew  Height_42_48_skew  \\\n",
       "count           17542.000000              186.0   \n",
       "mean                0.164419                0.0   \n",
       "std                 0.699109                0.0   \n",
       "min                -2.855201                0.0   \n",
       "25%                -0.283633                0.0   \n",
       "50%                 0.134020                0.0   \n",
       "75%                 0.624383                0.0   \n",
       "max                 4.364358                0.0   \n",
       "\n",
       "       Mean blood pressure_42_48_skew  Oxygen saturation_42_48_skew  \\\n",
       "count                    17476.000000                  17377.000000   \n",
       "mean                         0.122570                     -0.337341   \n",
       "std                          0.705537                      0.845839   \n",
       "min                         -2.514505                     -6.851991   \n",
       "25%                         -0.336710                     -0.795495   \n",
       "50%                          0.084401                     -0.213454   \n",
       "75%                          0.577609                      0.105275   \n",
       "max                          9.058773                      2.666667   \n",
       "\n",
       "       Respiratory rate_42_48_skew  Systolic blood pressure_42_48_skew  \\\n",
       "count                 17421.000000                        17527.000000   \n",
       "mean                      0.076805                            0.032787   \n",
       "std                       0.798692                            0.658855   \n",
       "min                      -4.364358                           -2.892597   \n",
       "25%                      -0.381802                           -0.406019   \n",
       "50%                       0.030105                            0.001134   \n",
       "75%                       0.585756                            0.470131   \n",
       "max                       6.979017                            3.144125   \n",
       "\n",
       "       Temperature_42_48_skew  Weight_42_48_skew  pH_42_48_skew  \n",
       "count            16739.000000        2092.000000    5099.000000  \n",
       "mean                 0.000338           0.002711      -0.024231  \n",
       "std                  0.249274           0.105190       0.264073  \n",
       "min                 -2.842783          -2.041241      -2.041241  \n",
       "25%                  0.000000           0.000000       0.000000  \n",
       "50%                  0.000000           0.000000       0.000000  \n",
       "75%                  0.000000           0.000000       0.000000  \n",
       "max                  2.660162           1.154701       2.008034  \n",
       "\n",
       "[8 rows x 672 columns]"
      ]
     },
     "execution_count": 6,
     "metadata": {},
     "output_type": "execute_result"
    }
   ],
   "source": [
    "# Explore data distribution\n",
    "\n",
    "data.drop(columns = ['label']).describe()"
   ]
  },
  {
   "cell_type": "code",
   "execution_count": 7,
   "metadata": {},
   "outputs": [
    {
     "data": {
      "image/png": "[encoded data removed]",
      "text/plain": [
       "<Figure size 432x288 with 1 Axes>"
      ]
     },
     "metadata": {
      "needs_background": "light"
     },
     "output_type": "display_data"
    },
    {
     "data": {
      "image/png": "[encoded data removed]",
      "text/plain": [
       "<Figure size 432x288 with 1 Axes>"
      ]
     },
     "metadata": {
      "needs_background": "light"
     },
     "output_type": "display_data"
    }
   ],
   "source": [
    "# Using visualizatino tool to explore data distribution\n",
    "#\n",
    "# For example, the following codes visuazized distritbution of features\n",
    "# 'Glascow coma scale total_0_6_max' and 'Diastolic blood pressure_0_6_max'\n",
    "\n",
    "import matplotlib.pyplot as plt\n",
    "\n",
    "for var in ['Glascow coma scale total_0_6_max', 'Fraction inspired oxygen_0_6_max']:\n",
    "    plt.hist(data[var], bins=10)\n",
    "    plt.xlabel(var)\n",
    "    plt.ylabel('No. of subjects')\n",
    "    plt.show()"
   ]
  },
  {
   "cell_type": "code",
   "execution_count": 8,
   "metadata": {},
   "outputs": [],
   "source": [
    "y = data['label'].values\n",
    "\n",
    "X = data.drop(columns = ['Subj', 'label']).values"
   ]
  },
  {
   "cell_type": "code",
   "execution_count": 9,
   "metadata": {},
   "outputs": [],
   "source": [
    "# Impute the missing values\n",
    "from sklearn.impute import SimpleImputer\n",
    "\n",
    "# if your sklearn version <= 0.20\n",
    "# Do:\n",
    "# from sklearn.preprocessing import Imputer\n",
    "# imputer = Imputer(missing_values=np.nan, strategy='mean')\n",
    "\n",
    "imputer = SimpleImputer(missing_values=np.nan, strategy='mean')\n",
    "\n",
    "imputer.fit(X)\n",
    "X_imputed = np.array(imputer.transform(X), dtype=np.float32)\n"
   ]
  },
  {
   "cell_type": "code",
   "execution_count": 10,
   "metadata": {},
   "outputs": [],
   "source": [
    "# Data scaling\n",
    "\n",
    "from sklearn.preprocessing import StandardScaler\n",
    "\n",
    "scaler = StandardScaler() \n",
    "\n",
    "scaler.fit(X_imputed)\n",
    "\n",
    "X_imputed_scaled = scaler.transform(X_imputed)\n",
    "\n"
   ]
  },
  {
   "cell_type": "code",
   "execution_count": 11,
   "metadata": {},
   "outputs": [
    {
     "data": {
      "text/plain": [
       "(17903, 672)"
      ]
     },
     "execution_count": 11,
     "metadata": {},
     "output_type": "execute_result"
    }
   ],
   "source": [
    "X_imputed_scaled.shape"
   ]
  },
  {
   "cell_type": "markdown",
   "metadata": {},
   "source": [
    "## Define the AutoEncoder"
   ]
  },
  {
   "cell_type": "code",
   "execution_count": 12,
   "metadata": {},
   "outputs": [],
   "source": [
    "import torch\n",
    "import torch.nn as nn\n",
    "import torch.nn.functional as F\n",
    "\n",
    "class AutoEncoder(nn.Module):\n",
    "    def __init__(self, input_size, hidden_1, hidden_2, hidden):\n",
    "        super(AutoEncoder, self).__init__()\n",
    "\n",
    "        self.encoder = nn.Sequential(\n",
    "            nn.Linear(input_size, hidden_1),\n",
    "            nn.Tanh(),\n",
    "            nn.Linear(hidden_1, hidden_2),\n",
    "            nn.Tanh(),\n",
    "            nn.Linear(hidden_2, hidden),\n",
    "            \n",
    "        )\n",
    "        self.decoder = nn.Sequential(\n",
    "            nn.Linear(hidden, hidden_2),\n",
    "            nn.Tanh(),\n",
    "            nn.Linear(hidden_2, hidden_1),\n",
    "            nn.Tanh(),\n",
    "            nn.Linear(hidden_1, input_size),\n",
    "#             nn.Sigmoid(),       # compress to a range (0, 1)\n",
    "        )\n",
    "\n",
    "    def forward(self, x):\n",
    "        encoded = self.encoder(x)\n",
    "        decoded = self.decoder(encoded)\n",
    "        return encoded, decoded\n",
    "\n",
    "\n"
   ]
  },
  {
   "cell_type": "code",
   "execution_count": 13,
   "metadata": {},
   "outputs": [],
   "source": [
    "autoencoder = AutoEncoder(input_size=672, hidden_1=128, hidden_2=64, hidden=16)"
   ]
  },
  {
   "cell_type": "code",
   "execution_count": 14,
   "metadata": {},
   "outputs": [
    {
     "data": {
      "text/plain": [
       "AutoEncoder(\n",
       "  (encoder): Sequential(\n",
       "    (0): Linear(in_features=672, out_features=128, bias=True)\n",
       "    (1): Tanh()\n",
       "    (2): Linear(in_features=128, out_features=64, bias=True)\n",
       "    (3): Tanh()\n",
       "    (4): Linear(in_features=64, out_features=16, bias=True)\n",
       "  )\n",
       "  (decoder): Sequential(\n",
       "    (0): Linear(in_features=16, out_features=64, bias=True)\n",
       "    (1): Tanh()\n",
       "    (2): Linear(in_features=64, out_features=128, bias=True)\n",
       "    (3): Tanh()\n",
       "    (4): Linear(in_features=128, out_features=672, bias=True)\n",
       "  )\n",
       ")"
      ]
     },
     "execution_count": 14,
     "metadata": {},
     "output_type": "execute_result"
    }
   ],
   "source": [
    "autoencoder"
   ]
  },
  {
   "cell_type": "markdown",
   "metadata": {},
   "source": [
    "## Model training"
   ]
  },
  {
   "cell_type": "code",
   "execution_count": 15,
   "metadata": {},
   "outputs": [],
   "source": [
    "# Transform numpy data into tensor of pythorch\n",
    "X_torch = torch.from_numpy(X_imputed_scaled).float()"
   ]
  },
  {
   "cell_type": "code",
   "execution_count": 16,
   "metadata": {},
   "outputs": [
    {
     "data": {
      "text/plain": [
       "tensor([[-8.0267e-10, -1.9283e-02,  1.9122e+00,  ..., -1.4019e-03,\n",
       "         -7.5413e-02,  1.7195e-01],\n",
       "        [-8.0267e-10, -2.5877e-03, -5.6576e-08,  ..., -1.4019e-03,\n",
       "         -3.4734e-11, -9.7246e-10],\n",
       "        [-8.0267e-10, -2.1040e-02,  1.9122e+00,  ..., -1.4019e-03,\n",
       "         -3.4734e-11, -9.7246e-10],\n",
       "        ...,\n",
       "        [-8.0267e-10,  8.8353e-03, -5.6576e-08,  ..., -1.4019e-03,\n",
       "         -3.4734e-11, -9.7246e-10],\n",
       "        [-8.0267e-10,  1.8501e-02, -5.6576e-08,  ..., -1.4019e-03,\n",
       "         -3.4734e-11, -9.7246e-10],\n",
       "        [-8.0267e-10,  1.1471e-02, -5.6576e-08,  ..., -1.4019e-03,\n",
       "         -3.4734e-11, -9.7246e-10]])"
      ]
     },
     "execution_count": 16,
     "metadata": {},
     "output_type": "execute_result"
    }
   ],
   "source": [
    "X_torch"
   ]
  },
  {
   "cell_type": "code",
   "execution_count": 17,
   "metadata": {},
   "outputs": [
    {
     "data": {
      "text/plain": [
       "torch.Size([17903, 672])"
      ]
     },
     "execution_count": 17,
     "metadata": {},
     "output_type": "execute_result"
    }
   ],
   "source": [
    "X_torch.size()"
   ]
  },
  {
   "cell_type": "code",
   "execution_count": 18,
   "metadata": {},
   "outputs": [],
   "source": [
    "# Transform to torch dataset, to generate batches\n",
    "import torch.utils.data as Data\n",
    "\n",
    "batch_size = 32\n",
    "\n",
    "data_set = Data.TensorDataset(X_torch)\n",
    "    \n",
    "# put data into DataLoader\n",
    "loader = Data.DataLoader(\n",
    "    dataset=data_set,           \n",
    "    batch_size=batch_size,      # mini batch size\n",
    "    shuffle=True,               # random?\n",
    "    num_workers=2               # multithreading?\n",
    ")"
   ]
  },
  {
   "cell_type": "code",
   "execution_count": 19,
   "metadata": {},
   "outputs": [],
   "source": [
    "# Need to tune hyper-parameters\n",
    "# Usually we need to try these parameters manually, here we use the emperical settings\n",
    "\n",
    "num_epochs = 200\n",
    "learning_rate = 0.001  # 0.01, 0.0002"
   ]
  },
  {
   "cell_type": "code",
   "execution_count": 20,
   "metadata": {},
   "outputs": [],
   "source": [
    "optimizer = torch.optim.Adam(autoencoder.parameters(), lr=learning_rate)\n",
    "\n",
    "loss_func = nn.MSELoss()"
   ]
  },
  {
   "cell_type": "code",
   "execution_count": 21,
   "metadata": {},
   "outputs": [
    {
     "name": "stdout",
     "output_type": "stream",
     "text": [
      "Epoch 0,  loss 0.809\n",
      "Epoch 1,  loss 0.757\n",
      "Epoch 2,  loss 0.739\n",
      "Epoch 3,  loss 0.725\n",
      "Epoch 4,  loss 0.714\n",
      "Epoch 5,  loss 0.707\n",
      "Epoch 6,  loss 0.701\n",
      "Epoch 7,  loss 0.694\n",
      "Epoch 8,  loss 0.690\n",
      "Epoch 9,  loss 0.685\n",
      "Epoch 10,  loss 0.685\n",
      "Epoch 11,  loss 0.684\n",
      "Epoch 12,  loss 0.680\n",
      "Epoch 13,  loss 0.675\n",
      "Epoch 14,  loss 0.674\n",
      "Epoch 15,  loss 0.671\n",
      "Epoch 16,  loss 0.671\n",
      "Epoch 17,  loss 0.665\n",
      "Epoch 18,  loss 0.667\n",
      "Epoch 19,  loss 0.673\n",
      "Epoch 20,  loss 0.670\n",
      "Epoch 21,  loss 0.660\n",
      "Epoch 22,  loss 0.656\n",
      "Epoch 23,  loss 0.656\n",
      "Epoch 24,  loss 0.653\n",
      "Epoch 25,  loss 0.653\n",
      "Epoch 26,  loss 0.651\n",
      "Epoch 27,  loss 0.648\n",
      "Epoch 28,  loss 0.647\n",
      "Epoch 29,  loss 0.647\n",
      "Epoch 30,  loss 0.644\n",
      "Epoch 31,  loss 0.641\n",
      "Epoch 32,  loss 0.639\n",
      "Epoch 33,  loss 0.637\n",
      "Epoch 34,  loss 0.636\n",
      "Epoch 35,  loss 0.634\n",
      "Epoch 36,  loss 0.633\n",
      "Epoch 37,  loss 0.637\n",
      "Epoch 38,  loss 0.632\n",
      "Epoch 39,  loss 0.626\n",
      "Epoch 40,  loss 0.630\n",
      "Epoch 41,  loss 0.624\n",
      "Epoch 42,  loss 0.621\n",
      "Epoch 43,  loss 0.622\n",
      "Epoch 44,  loss 0.618\n",
      "Epoch 45,  loss 0.619\n",
      "Epoch 46,  loss 0.614\n",
      "Epoch 47,  loss 0.612\n",
      "Epoch 48,  loss 0.611\n",
      "Epoch 49,  loss 0.612\n",
      "Epoch 50,  loss 0.609\n",
      "Epoch 51,  loss 0.608\n",
      "Epoch 52,  loss 0.609\n",
      "Epoch 53,  loss 0.605\n",
      "Epoch 54,  loss 0.604\n",
      "Epoch 55,  loss 0.604\n",
      "Epoch 56,  loss 0.601\n",
      "Epoch 57,  loss 0.600\n",
      "Epoch 58,  loss 0.598\n",
      "Epoch 59,  loss 0.596\n",
      "Epoch 60,  loss 0.605\n",
      "Epoch 61,  loss 0.601\n",
      "Epoch 62,  loss 0.601\n",
      "Epoch 63,  loss 0.595\n",
      "Epoch 64,  loss 0.593\n",
      "Epoch 65,  loss 0.593\n",
      "Epoch 66,  loss 0.591\n",
      "Epoch 67,  loss 0.591\n",
      "Epoch 68,  loss 0.593\n",
      "Epoch 69,  loss 0.590\n",
      "Epoch 70,  loss 0.588\n",
      "Epoch 71,  loss 0.586\n",
      "Epoch 72,  loss 0.585\n",
      "Epoch 73,  loss 0.584\n",
      "Epoch 74,  loss 0.584\n",
      "Epoch 75,  loss 0.583\n",
      "Epoch 76,  loss 0.582\n",
      "Epoch 77,  loss 0.582\n",
      "Epoch 78,  loss 0.582\n",
      "Epoch 79,  loss 0.584\n",
      "Epoch 80,  loss 0.582\n",
      "Epoch 81,  loss 0.580\n",
      "Epoch 82,  loss 0.578\n",
      "Epoch 83,  loss 0.577\n",
      "Epoch 84,  loss 0.577\n",
      "Epoch 85,  loss 0.578\n",
      "Epoch 86,  loss 0.576\n",
      "Epoch 87,  loss 0.576\n",
      "Epoch 88,  loss 0.573\n",
      "Epoch 89,  loss 0.571\n",
      "Epoch 90,  loss 0.573\n",
      "Epoch 91,  loss 0.571\n",
      "Epoch 92,  loss 0.569\n",
      "Epoch 93,  loss 0.569\n",
      "Epoch 94,  loss 0.568\n",
      "Epoch 95,  loss 0.568\n",
      "Epoch 96,  loss 0.568\n",
      "Epoch 97,  loss 0.565\n",
      "Epoch 98,  loss 0.564\n",
      "Epoch 99,  loss 0.564\n",
      "Epoch 100,  loss 0.564\n",
      "Epoch 101,  loss 0.564\n",
      "Epoch 102,  loss 0.564\n",
      "Epoch 103,  loss 0.563\n",
      "Epoch 104,  loss 0.560\n",
      "Epoch 105,  loss 0.558\n",
      "Epoch 106,  loss 0.558\n",
      "Epoch 107,  loss 0.561\n",
      "Epoch 108,  loss 0.559\n",
      "Epoch 109,  loss 0.556\n",
      "Epoch 110,  loss 0.554\n",
      "Epoch 111,  loss 0.553\n",
      "Epoch 112,  loss 0.556\n",
      "Epoch 113,  loss 0.553\n",
      "Epoch 114,  loss 0.558\n",
      "Epoch 115,  loss 0.555\n",
      "Epoch 116,  loss 0.553\n",
      "Epoch 117,  loss 0.552\n",
      "Epoch 118,  loss 0.556\n",
      "Epoch 119,  loss 0.548\n",
      "Epoch 120,  loss 0.547\n",
      "Epoch 121,  loss 0.546\n",
      "Epoch 122,  loss 0.548\n",
      "Epoch 123,  loss 0.547\n",
      "Epoch 124,  loss 0.549\n",
      "Epoch 125,  loss 0.547\n",
      "Epoch 126,  loss 0.548\n",
      "Epoch 127,  loss 0.547\n",
      "Epoch 128,  loss 0.543\n",
      "Epoch 129,  loss 0.543\n",
      "Epoch 130,  loss 0.542\n",
      "Epoch 131,  loss 0.542\n",
      "Epoch 132,  loss 0.541\n",
      "Epoch 133,  loss 0.542\n",
      "Epoch 134,  loss 0.538\n",
      "Epoch 135,  loss 0.541\n",
      "Epoch 136,  loss 0.543\n",
      "Epoch 137,  loss 0.542\n",
      "Epoch 138,  loss 0.536\n",
      "Epoch 139,  loss 0.534\n",
      "Epoch 140,  loss 0.534\n",
      "Epoch 141,  loss 0.537\n",
      "Epoch 142,  loss 0.535\n",
      "Epoch 143,  loss 0.535\n",
      "Epoch 144,  loss 0.533\n",
      "Epoch 145,  loss 0.538\n",
      "Epoch 146,  loss 0.534\n",
      "Epoch 147,  loss 0.532\n",
      "Epoch 148,  loss 0.531\n",
      "Epoch 149,  loss 0.528\n",
      "Epoch 150,  loss 0.530\n",
      "Epoch 151,  loss 0.530\n",
      "Epoch 152,  loss 0.528\n",
      "Epoch 153,  loss 0.527\n",
      "Epoch 154,  loss 0.530\n",
      "Epoch 155,  loss 0.536\n",
      "Epoch 156,  loss 0.531\n",
      "Epoch 157,  loss 0.528\n",
      "Epoch 158,  loss 0.528\n",
      "Epoch 159,  loss 0.527\n",
      "Epoch 160,  loss 0.523\n",
      "Epoch 161,  loss 0.525\n",
      "Epoch 162,  loss 0.525\n",
      "Epoch 163,  loss 0.523\n",
      "Epoch 164,  loss 0.521\n",
      "Epoch 165,  loss 0.525\n",
      "Epoch 166,  loss 0.522\n",
      "Epoch 167,  loss 0.522\n",
      "Epoch 168,  loss 0.520\n",
      "Epoch 169,  loss 0.520\n",
      "Epoch 170,  loss 0.520\n",
      "Epoch 171,  loss 0.522\n",
      "Epoch 172,  loss 0.520\n",
      "Epoch 173,  loss 0.518\n",
      "Epoch 174,  loss 0.515\n",
      "Epoch 175,  loss 0.516\n",
      "Epoch 176,  loss 0.513\n",
      "Epoch 177,  loss 0.514\n",
      "Epoch 178,  loss 0.514\n",
      "Epoch 179,  loss 0.513\n",
      "Epoch 180,  loss 0.511\n",
      "Epoch 181,  loss 0.512\n",
      "Epoch 182,  loss 0.513\n",
      "Epoch 183,  loss 0.513\n",
      "Epoch 184,  loss 0.510\n",
      "Epoch 185,  loss 0.510\n",
      "Epoch 186,  loss 0.514\n",
      "Epoch 187,  loss 0.510\n",
      "Epoch 188,  loss 0.510\n",
      "Epoch 189,  loss 0.511\n",
      "Epoch 190,  loss 0.508\n",
      "Epoch 191,  loss 0.510\n",
      "Epoch 192,  loss 0.513\n",
      "Epoch 193,  loss 0.513\n",
      "Epoch 194,  loss 0.509\n",
      "Epoch 195,  loss 0.507\n",
      "Epoch 196,  loss 0.507\n",
      "Epoch 197,  loss 0.507\n",
      "Epoch 198,  loss 0.507\n",
      "Epoch 199,  loss 0.505\n"
     ]
    }
   ],
   "source": [
    "# Perform training\n",
    "loss_list = []\n",
    "\n",
    "for epoch in range(num_epochs):\n",
    "    \n",
    "    loss_temp = 0\n",
    "    i = 0\n",
    "    \n",
    "    for step, b_x in enumerate(loader):\n",
    "        i += 1\n",
    "        \n",
    "        b_x = b_x[0]\n",
    "\n",
    "        encoded, decoded = autoencoder(b_x)\n",
    "\n",
    "        loss = loss_func(decoded, b_x)      # mean square error\n",
    "        optimizer.zero_grad()               # clear gradients for this training step\n",
    "        loss.backward()                     # backpropagation, compute gradients\n",
    "        optimizer.step()                    # apply gradients\n",
    "        \n",
    "        loss_temp += loss.data.numpy()\n",
    "        \n",
    "#         if step % 100 == 0:\n",
    "#             print('Epoch: ', epoch, '| train loss: %.4f' % loss.data.numpy())\n",
    "    print(\"Epoch %s,  loss %.3f\" % (epoch,  loss_temp/i))\n",
    "    loss_list.append(loss_temp/i)     # loss recoder"
   ]
  },
  {
   "cell_type": "code",
   "execution_count": 22,
   "metadata": {},
   "outputs": [
    {
     "data": {
      "image/png": "[encoded data removed]",
      "text/plain": [
       "<Figure size 432x288 with 1 Axes>"
      ]
     },
     "metadata": {
      "needs_background": "light"
     },
     "output_type": "display_data"
    }
   ],
   "source": [
    "import matplotlib.pyplot as plt\n",
    "plt.plot(loss_list)\n",
    "plt.xlabel('Steps')\n",
    "plt.ylabel('Loss')\n",
    "plt.show()"
   ]
  },
  {
   "cell_type": "code",
   "execution_count": 23,
   "metadata": {},
   "outputs": [],
   "source": [
    "# use the trained model to get compressed features \n",
    "encoded_data, decoded_data = autoencoder(X_torch)"
   ]
  },
  {
   "cell_type": "code",
   "execution_count": 24,
   "metadata": {},
   "outputs": [
    {
     "data": {
      "text/plain": [
       "torch.Size([17903, 16])"
      ]
     },
     "execution_count": 24,
     "metadata": {},
     "output_type": "execute_result"
    }
   ],
   "source": [
    "encoded_data.size()"
   ]
  },
  {
   "cell_type": "code",
   "execution_count": 25,
   "metadata": {},
   "outputs": [
    {
     "data": {
      "text/plain": [
       "torch.Size([17903, 672])"
      ]
     },
     "execution_count": 25,
     "metadata": {},
     "output_type": "execute_result"
    }
   ],
   "source": [
    "decoded_data.size()"
   ]
  },
  {
   "cell_type": "markdown",
   "metadata": {},
   "source": [
    "## Use the learned low-dimensional representaion vectors for data visualization"
   ]
  },
  {
   "cell_type": "code",
   "execution_count": 28,
   "metadata": {},
   "outputs": [],
   "source": [
    "from sklearn.manifold import TSNE\n",
    "\n",
    "tsne = TSNE(n_components=2, \n",
    "            init='random', # random ininitialization, other option: pca\n",
    "            random_state=1)\n",
    "\n",
    "X_encode_tsne = tsne.fit_transform(encoded_data.detach().numpy())"
   ]
  },
  {
   "cell_type": "code",
   "execution_count": 29,
   "metadata": {},
   "outputs": [
    {
     "data": {
      "image/png": "[encoded data removed]",
      "text/plain": [
       "<Figure size 432x288 with 1 Axes>"
      ]
     },
     "metadata": {
      "needs_background": "light"
     },
     "output_type": "display_data"
    }
   ],
   "source": [
    "# Visualize training set with labels, based on t-SNE\n",
    "\n",
    "plt.scatter(X_encode_tsne[y == 0, 0], X_encode_tsne[y == 0, 1], \n",
    "            s=4, # marker size\n",
    "            c='blue', # color\n",
    "            alpha=0.5, # transparency\n",
    "            label='Controls', # label\n",
    "           )\n",
    "plt.scatter(X_encode_tsne[y == 1, 0], X_encode_tsne[y == 1, 1], \n",
    "            s=4, # marker size\n",
    "            c='red', # color\n",
    "            alpha=0.5, # transparency\n",
    "            label='Cases', # label\n",
    "           )\n",
    "\n",
    "\n",
    "plt.xlabel('tSNE_0')\n",
    "plt.ylabel('tSNE_1')\n",
    "\n",
    "plt.legend() # show legend\n",
    "\n",
    "plt.show()"
   ]
  },
  {
   "cell_type": "markdown",
   "metadata": {},
   "source": [
    "## Use the learned representations for clustering analysis"
   ]
  },
  {
   "cell_type": "markdown",
   "metadata": {},
   "source": [
    "Task: to identify sub-groups of patients who died in hospital"
   ]
  },
  {
   "cell_type": "code",
   "execution_count": 51,
   "metadata": {},
   "outputs": [],
   "source": [
    "encoded_vecs = encoded_data.detach().numpy()"
   ]
  },
  {
   "cell_type": "code",
   "execution_count": 52,
   "metadata": {},
   "outputs": [],
   "source": [
    "# Filtering: only using the patients died in hospital\n",
    "\n",
    "encoded_vecs_death = encoded_vecs[y == 1]"
   ]
  },
  {
   "cell_type": "code",
   "execution_count": 53,
   "metadata": {},
   "outputs": [
    {
     "data": {
      "text/plain": [
       "(2423, 16)"
      ]
     },
     "execution_count": 53,
     "metadata": {},
     "output_type": "execute_result"
    }
   ],
   "source": [
    "encoded_vecs_death.shape"
   ]
  },
  {
   "cell_type": "code",
   "execution_count": 54,
   "metadata": {},
   "outputs": [
    {
     "data": {
      "image/png": "[encoded data removed]",
      "text/plain": [
       "<Figure size 432x288 with 1 Axes>"
      ]
     },
     "metadata": {
      "needs_background": "light"
     },
     "output_type": "display_data"
    }
   ],
   "source": [
    "import matplotlib.pyplot as plt\n",
    "import scipy.cluster.hierarchy as shc\n",
    "import scipy.spatial as sp\n",
    "\n",
    "\n",
    "# Generate dendrogram to determine the optimal cluster number\n",
    "\n",
    "linkage = shc.linkage(encoded_vecs_death,\n",
    "                      method='ward', # options for method: average, single,\n",
    "                                     #                     complete, ward, etc. \n",
    "                     )\n",
    "\n",
    "den_plt = shc.dendrogram(linkage, orientation='top', color_threshold=45)\n",
    "\n",
    "plt.show()\n",
    "\n"
   ]
  },
  {
   "cell_type": "code",
   "execution_count": 55,
   "metadata": {},
   "outputs": [],
   "source": [
    "# According to the dendrogram, we determine the cluster number as 3\n",
    "\n",
    "labels_hc = shc.fcluster(Z = linkage, # input linkage\n",
    "                         t = 3, # cluster number\n",
    "                         criterion = 'maxclust'\n",
    "                        )"
   ]
  },
  {
   "cell_type": "code",
   "execution_count": 56,
   "metadata": {},
   "outputs": [],
   "source": [
    "# Get the unique cluster labels\n",
    "\n",
    "unique_labels, lanel_cnts = np.unique(labels_hc, return_counts=True)"
   ]
  },
  {
   "cell_type": "code",
   "execution_count": 57,
   "metadata": {},
   "outputs": [],
   "source": [
    "# Visualize the identified sub-groups in TSNE space\n",
    "\n",
    "\n",
    "from sklearn.manifold import TSNE\n",
    "\n",
    "tsne = TSNE(n_components=2, \n",
    "            init='random', # random ininitialization, other option: pca\n",
    "            random_state=1)\n",
    "\n",
    "X_death_encode_tsne = tsne.fit_transform(encoded_vecs_death)"
   ]
  },
  {
   "cell_type": "code",
   "execution_count": 58,
   "metadata": {},
   "outputs": [
    {
     "data": {
      "image/png": "[encoded data removed]",
      "text/plain": [
       "<Figure size 432x288 with 1 Axes>"
      ]
     },
     "metadata": {
      "needs_background": "light"
     },
     "output_type": "display_data"
    }
   ],
   "source": [
    "for l in unique_labels:\n",
    "    plt.scatter(X_death_encode_tsne[labels_hc == l, 0], X_death_encode_tsne[labels_hc == l, 1], \n",
    "                s=4, # marker size\n",
    "                alpha=0.5, # transparency\n",
    "                label='Cluster %s' % l, # label\n",
    "               )\n",
    "\n",
    "\n",
    "plt.xlabel('tSNE_0')\n",
    "plt.ylabel('tSNE_1')\n",
    "\n",
    "plt.legend() # show legend\n",
    "\n",
    "plt.show()"
   ]
  }
 ],
 "metadata": {
  "kernelspec": {
   "display_name": "Python 3 (ipykernel)",
   "language": "python",
   "name": "python3"
  },
  "language_info": {
   "codemirror_mode": {
    "name": "ipython",
    "version": 3
   },
   "file_extension": ".py",
   "mimetype": "text/x-python",
   "name": "python",
   "nbconvert_exporter": "python",
   "pygments_lexer": "ipython3",
   "version": "3.9.7"
  }
 },
 "nbformat": 4,
 "nbformat_minor": 2
}
