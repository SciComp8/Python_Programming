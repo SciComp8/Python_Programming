{
 "cells": [
  {
   "cell_type": "markdown",
   "id": "79a9ef23",
   "metadata": {},
   "source": [
    "## Combinatorics"
   ]
  },
  {
   "cell_type": "code",
   "execution_count": 7,
   "id": "7363c0e7",
   "metadata": {},
   "outputs": [],
   "source": [
    "import itertools as it"
   ]
  },
  {
   "cell_type": "code",
   "execution_count": 32,
   "id": "d41aebc3",
   "metadata": {},
   "outputs": [],
   "source": [
    "# Assign some variables to store data\n",
    "available = '123456'\n",
    "center = available[0]"
   ]
  },
  {
   "cell_type": "code",
   "execution_count": 33,
   "id": "ac6dc7bd",
   "metadata": {},
   "outputs": [],
   "source": [
    "start = '1'\n",
    "length = 2\n",
    "\n",
    "# Use built-in Python set object to hold exclusions\n",
    "exclude = {'11', '22', '33', '44', '55', '66'}"
   ]
  },
  {
   "cell_type": "code",
   "execution_count": 34,
   "id": "0c01e86b",
   "metadata": {},
   "outputs": [],
   "source": [
    "# Define a function\n",
    "def nums(available, start, length):\n",
    "    num_unknown = length - len(start)\n",
    "    \n",
    "    # Call the product function from the itertools module\n",
    "    iterator = it.product(available, repeat=num_unknown)\n",
    "    \n",
    "    # Use a list comprehension to create a list of all possible numbers\n",
    "    return [start + ''.join(numbers) for numbers in iterator]"
   ]
  },
  {
   "cell_type": "code",
   "execution_count": 35,
   "id": "9592262c",
   "metadata": {},
   "outputs": [
    {
     "name": "stdout",
     "output_type": "stream",
     "text": [
      "['11', '12', '13', '14', '15', '16']\n"
     ]
    }
   ],
   "source": [
    "# Call our nums function to generate all possible numbers\n",
    "allnums = nums(available, start, length)\n",
    "print(allnums)"
   ]
  },
  {
   "cell_type": "code",
   "execution_count": 36,
   "id": "7c9d8f58",
   "metadata": {},
   "outputs": [
    {
     "name": "stdout",
     "output_type": "stream",
     "text": [
      "12\n",
      "13\n",
      "14\n",
      "15\n",
      "16\n"
     ]
    }
   ],
   "source": [
    "# Loop over all numbers\n",
    "for n in allnums:\n",
    "    not_excluded = True\n",
    "    \n",
    "    # Check if the number is an excluded one\n",
    "    for ex in exclude:\n",
    "        if ex in n:\n",
    "            not_excluded = False\n",
    "    \n",
    "    # Print the number if it is not excluded and it contains the center number\n",
    "    if not_excluded and center in n:\n",
    "        print(n)"
   ]
  },
  {
   "cell_type": "code",
   "execution_count": 37,
   "id": "c5c7f2e9",
   "metadata": {},
   "outputs": [
    {
     "name": "stdout",
     "output_type": "stream",
     "text": [
      "Variable       Type        Data/Info\n",
      "------------------------------------\n",
      "allnums        list        n=6\n",
      "available      str         123456\n",
      "center         str         1\n",
      "ex             str         22\n",
      "exclude        set         {'55', '66', '44', '11', '33', '22'}\n",
      "it             module      <module 'itertools' (built-in)>\n",
      "itertools      module      <module 'itertools' (built-in)>\n",
      "length         int         2\n",
      "n              str         16\n",
      "not_excluded   bool        True\n",
      "nums           function    <function nums at 0x113ad63a0>\n",
      "start          str         1\n"
     ]
    }
   ],
   "source": [
    "%whos"
   ]
  }
 ],
 "metadata": {
  "kernelspec": {
   "display_name": "Python 3 (ipykernel)",
   "language": "python",
   "name": "python3"
  },
  "language_info": {
   "codemirror_mode": {
    "name": "ipython",
    "version": 3
   },
   "file_extension": ".py",
   "mimetype": "text/x-python",
   "name": "python",
   "nbconvert_exporter": "python",
   "pygments_lexer": "ipython3",
   "version": "3.9.10"
  }
 },
 "nbformat": 4,
 "nbformat_minor": 5
}
