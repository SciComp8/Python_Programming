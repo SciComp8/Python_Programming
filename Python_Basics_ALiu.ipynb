{
 "cells": [
  {
   "cell_type": "code",
   "execution_count": 1,
   "id": "0d7f26a5",
   "metadata": {},
   "outputs": [
    {
     "name": "stdout",
     "output_type": "stream",
     "text": [
      "This is a Print Statement\n"
     ]
    }
   ],
   "source": [
    "# This is a comment\n",
    "\"\"\"\n",
    "This is a longer comment!\n",
    "This is a longer comment!\n",
    "\"\"\"\n",
    "# This is a longer comment!\n",
    "# This is a longer comment!\n",
    "# This is a longer comment!\n",
    "\n",
    "print(\"This is a Print Statement\")"
   ]
  },
  {
   "cell_type": "code",
   "execution_count": 2,
   "id": "08e691ab",
   "metadata": {},
   "outputs": [
    {
     "name": "stdout",
     "output_type": "stream",
     "text": [
      "This is a Print Statement 1\n"
     ]
    }
   ],
   "source": [
    "print(\"This is a Print Statement\", 1)"
   ]
  },
  {
   "cell_type": "code",
   "execution_count": 3,
   "id": "bb03c7ac",
   "metadata": {},
   "outputs": [
    {
     "name": "stdout",
     "output_type": "stream",
     "text": [
      "<class 'int'>\n",
      "<class 'float'>\n"
     ]
    }
   ],
   "source": [
    "#integer\n",
    "int_ex = 1\n",
    "\n",
    "#float\n",
    "float_ex = 1.0\n",
    "print(type(int_ex))\n",
    "print(type(float_ex))"
   ]
  },
  {
   "cell_type": "code",
   "execution_count": 4,
   "id": "1f0888d6",
   "metadata": {},
   "outputs": [
    {
     "data": {
      "text/plain": [
       "9"
      ]
     },
     "execution_count": 4,
     "metadata": {},
     "output_type": "execute_result"
    }
   ],
   "source": [
    "# Exponentiation\n",
    "3**2"
   ]
  },
  {
   "cell_type": "code",
   "execution_count": 5,
   "id": "15040b8a",
   "metadata": {},
   "outputs": [
    {
     "data": {
      "text/plain": [
       "1"
      ]
     },
     "execution_count": 5,
     "metadata": {},
     "output_type": "execute_result"
    }
   ],
   "source": [
    "3^2"
   ]
  },
  {
   "cell_type": "code",
   "execution_count": 8,
   "id": "9794356d",
   "metadata": {},
   "outputs": [
    {
     "data": {
      "text/plain": [
       "True"
      ]
     },
     "execution_count": 8,
     "metadata": {},
     "output_type": "execute_result"
    }
   ],
   "source": [
    "# Modulo %: return the remainder\n",
    "# Return an odd number\n",
    "5%2 == 1\n",
    "\n",
    "# Return an even number\n",
    "6%3 == 0"
   ]
  },
  {
   "cell_type": "code",
   "execution_count": 12,
   "id": "c7b55734",
   "metadata": {},
   "outputs": [
    {
     "data": {
      "text/plain": [
       "'Hello World'"
      ]
     },
     "execution_count": 12,
     "metadata": {},
     "output_type": "execute_result"
    }
   ],
   "source": [
    "# String = a collection of characters\n",
    "str_ex = \"Hello World\"\n",
    "str_ex"
   ]
  },
  {
   "cell_type": "code",
   "execution_count": 11,
   "id": "ad2d2089",
   "metadata": {},
   "outputs": [
    {
     "data": {
      "text/plain": [
       "\"It's time\""
      ]
     },
     "execution_count": 11,
     "metadata": {},
     "output_type": "execute_result"
    }
   ],
   "source": [
    "str_ex2 = \"It's time\"\n",
    "str_ex2"
   ]
  },
  {
   "cell_type": "code",
   "execution_count": 14,
   "id": "c15c4132",
   "metadata": {},
   "outputs": [
    {
     "ename": "SyntaxError",
     "evalue": "invalid syntax (2177405791.py, line 1)",
     "output_type": "error",
     "traceback": [
      "\u001b[0;36m  File \u001b[0;32m\"/var/folders/s1/6460_yvs6ggdv14vc1dsk_r40000gn/T/ipykernel_7810/2177405791.py\"\u001b[0;36m, line \u001b[0;32m1\u001b[0m\n\u001b[0;31m    str_ex3 = 'It's time'\u001b[0m\n\u001b[0m                  ^\u001b[0m\n\u001b[0;31mSyntaxError\u001b[0m\u001b[0;31m:\u001b[0m invalid syntax\n"
     ]
    }
   ],
   "source": [
    "str_ex3 = 'It's time'\n",
    "str_ex3"
   ]
  },
  {
   "cell_type": "code",
   "execution_count": 15,
   "id": "6c3bdfea",
   "metadata": {},
   "outputs": [
    {
     "data": {
      "text/plain": [
       "\"It's time\""
      ]
     },
     "execution_count": 15,
     "metadata": {},
     "output_type": "execute_result"
    }
   ],
   "source": [
    "# Escape \\\n",
    "str_ex4 = 'It\\'s time' \n",
    "str_ex4"
   ]
  },
  {
   "cell_type": "code",
   "execution_count": 16,
   "id": "0802c358",
   "metadata": {},
   "outputs": [
    {
     "data": {
      "text/plain": [
       "3"
      ]
     },
     "execution_count": 16,
     "metadata": {},
     "output_type": "execute_result"
    }
   ],
   "source": [
    "# Count the occurence of a character in a string\n",
    "str_ex.count(\"l\")"
   ]
  },
  {
   "cell_type": "code",
   "execution_count": 17,
   "id": "5202c152",
   "metadata": {},
   "outputs": [
    {
     "name": "stdout",
     "output_type": "stream",
     "text": [
      "HELLO WORLD\n",
      "hello world\n",
      "Hello World\n"
     ]
    }
   ],
   "source": [
    "print(str_ex.upper())\n",
    "print(str_ex.lower())\n",
    "print(str_ex.title())"
   ]
  },
  {
   "cell_type": "code",
   "execution_count": 18,
   "id": "7b40f794",
   "metadata": {},
   "outputs": [
    {
     "data": {
      "text/plain": [
       "2"
      ]
     },
     "execution_count": 18,
     "metadata": {},
     "output_type": "execute_result"
    }
   ],
   "source": [
    "# Return the index of a character (first appear) in a string\n",
    "str_ex.index(\"l\")"
   ]
  },
  {
   "cell_type": "code",
   "execution_count": 20,
   "id": "f990dc37",
   "metadata": {},
   "outputs": [
    {
     "data": {
      "text/plain": [
       "'Hello, World'"
      ]
     },
     "execution_count": 20,
     "metadata": {},
     "output_type": "execute_result"
    }
   ],
   "source": [
    "str_ex.replace(\" \", \", \")"
   ]
  },
  {
   "cell_type": "code",
   "execution_count": 23,
   "id": "2952e778",
   "metadata": {},
   "outputs": [
    {
     "data": {
      "text/plain": [
       "['Hello', 'World']"
      ]
     },
     "execution_count": 23,
     "metadata": {},
     "output_type": "execute_result"
    }
   ],
   "source": [
    "# Convert a string to a list containing each substring\n",
    "a = str_ex.split()\n",
    "a"
   ]
  },
  {
   "cell_type": "code",
   "execution_count": 24,
   "id": "abb2b393",
   "metadata": {},
   "outputs": [
    {
     "data": {
      "text/plain": [
       "'HelloWorld'"
      ]
     },
     "execution_count": 24,
     "metadata": {},
     "output_type": "execute_result"
    }
   ],
   "source": [
    "# Concatenate all substrings into a long string\n",
    "\"\".join(a)"
   ]
  },
  {
   "cell_type": "code",
   "execution_count": 25,
   "id": "069759a6",
   "metadata": {},
   "outputs": [
    {
     "data": {
      "text/plain": [
       "'Hello World'"
      ]
     },
     "execution_count": 25,
     "metadata": {},
     "output_type": "execute_result"
    }
   ],
   "source": [
    "\" \".join(a)"
   ]
  },
  {
   "cell_type": "code",
   "execution_count": 26,
   "id": "44709661",
   "metadata": {},
   "outputs": [
    {
     "data": {
      "text/plain": [
       "'Hello, World'"
      ]
     },
     "execution_count": 26,
     "metadata": {},
     "output_type": "execute_result"
    }
   ],
   "source": [
    "\", \".join(a)"
   ]
  },
  {
   "cell_type": "code",
   "execution_count": 27,
   "id": "3c491682",
   "metadata": {},
   "outputs": [
    {
     "name": "stdout",
     "output_type": "stream",
     "text": [
      "helloworld\n"
     ]
    }
   ],
   "source": [
    "# You can also use operators on strings\n",
    "hello = \"hello\"\n",
    "world = \"world\"\n",
    "helloworld = hello + world\n",
    "print(helloworld)"
   ]
  },
  {
   "cell_type": "code",
   "execution_count": 28,
   "id": "78290bc3",
   "metadata": {},
   "outputs": [
    {
     "name": "stdout",
     "output_type": "stream",
     "text": [
      "hello world\n"
     ]
    }
   ],
   "source": [
    "helloworld = hello + \" \" + world\n",
    "print(helloworld)"
   ]
  },
  {
   "cell_type": "code",
   "execution_count": 30,
   "id": "8e67e913",
   "metadata": {},
   "outputs": [
    {
     "name": "stdout",
     "output_type": "stream",
     "text": [
      "hello hello hello hello hello \n"
     ]
    }
   ],
   "source": [
    "helloworld_new = \"hello \" * 5\n",
    "print(helloworld_new)"
   ]
  },
  {
   "cell_type": "code",
   "execution_count": 31,
   "id": "f2807a52",
   "metadata": {},
   "outputs": [
    {
     "name": "stdout",
     "output_type": "stream",
     "text": [
      "False\n",
      "0\n"
     ]
    }
   ],
   "source": [
    "# Boolean\n",
    "boo_ex = 5 < 4\n",
    "print(boo_ex)\n",
    "print(int(boo_ex))"
   ]
  },
  {
   "cell_type": "code",
   "execution_count": 32,
   "id": "f3bde9ab",
   "metadata": {},
   "outputs": [
    {
     "data": {
      "text/plain": [
       "True"
      ]
     },
     "execution_count": 32,
     "metadata": {},
     "output_type": "execute_result"
    }
   ],
   "source": [
    "a = 1\n",
    "b = 2\n",
    "a == 1 and b == 2"
   ]
  },
  {
   "cell_type": "code",
   "execution_count": null,
   "id": "515b6b96",
   "metadata": {},
   "outputs": [],
   "source": [
    "# Conditional expressions\n",
    "\"\"\"\n",
    "if \\<expression_1\\>:\\n\n",
    "    code # You must have indent\n",
    "elif \\<expression_2\\>:\\n\n",
    "    code\n",
    "else\n",
    "\"\"\""
   ]
  },
  {
   "cell_type": "code",
   "execution_count": 33,
   "id": "57a8cd99",
   "metadata": {},
   "outputs": [
    {
     "ename": "SyntaxError",
     "evalue": "invalid syntax (1506332484.py, line 1)",
     "output_type": "error",
     "traceback": [
      "\u001b[0;36m  File \u001b[0;32m\"/var/folders/s1/6460_yvs6ggdv14vc1dsk_r40000gn/T/ipykernel_7810/1506332484.py\"\u001b[0;36m, line \u001b[0;32m1\u001b[0m\n\u001b[0;31m    if (a =< 1) and (b == 2)\u001b[0m\n\u001b[0m          ^\u001b[0m\n\u001b[0;31mSyntaxError\u001b[0m\u001b[0;31m:\u001b[0m invalid syntax\n"
     ]
    }
   ],
   "source": [
    "if (a =< 1) and (b == 2)"
   ]
  },
  {
   "cell_type": "code",
   "execution_count": 34,
   "id": "f9e34f19",
   "metadata": {},
   "outputs": [
    {
     "name": "stdout",
     "output_type": "stream",
     "text": [
      "Odd\n"
     ]
    }
   ],
   "source": [
    "# Interview question\n",
    "a = 97\n",
    "if a%2 == 1:\n",
    "    print(\"Odd\")\n",
    "else:\n",
    "    print(\"Even\")"
   ]
  },
  {
   "cell_type": "code",
   "execution_count": 35,
   "id": "371e35fc",
   "metadata": {},
   "outputs": [
    {
     "name": "stdout",
     "output_type": "stream",
     "text": [
      "[1, 2, 'Hello']\n",
      "3\n"
     ]
    }
   ],
   "source": [
    "# Lists\n",
    "# Initialize a list\n",
    "mylist = []\n",
    "mylist.append(1)\n",
    "mylist.append(5%3)\n",
    "mylist.append(\"Hello\")\n",
    "print(mylist)\n",
    "\n",
    "# len: find the length (number of elements) of a list\n",
    "print(len(mylist))"
   ]
  },
  {
   "cell_type": "code",
   "execution_count": 36,
   "id": "072af83d",
   "metadata": {},
   "outputs": [
    {
     "name": "stdout",
     "output_type": "stream",
     "text": [
      "[1, 3, 5, 2, 4, 6]\n"
     ]
    }
   ],
   "source": [
    "odd_numbers = [1,3,5]\n",
    "even_numbers = [2,4,6]\n",
    "nums = odd_numbers + even_numbers\n",
    "print(nums)"
   ]
  },
  {
   "cell_type": "code",
   "execution_count": 39,
   "id": "adfb6577",
   "metadata": {},
   "outputs": [
    {
     "name": "stdout",
     "output_type": "stream",
     "text": [
      "1\n"
     ]
    },
    {
     "ename": "IndexError",
     "evalue": "list index out of range",
     "output_type": "error",
     "traceback": [
      "\u001b[0;31m---------------------------------------------------------------------------\u001b[0m",
      "\u001b[0;31mIndexError\u001b[0m                                Traceback (most recent call last)",
      "\u001b[0;32m/var/folders/s1/6460_yvs6ggdv14vc1dsk_r40000gn/T/ipykernel_7810/4262254352.py\u001b[0m in \u001b[0;36m<module>\u001b[0;34m\u001b[0m\n\u001b[1;32m      1\u001b[0m \u001b[0;31m# Access elements of a list\u001b[0m\u001b[0;34m\u001b[0m\u001b[0;34m\u001b[0m\u001b[0m\n\u001b[1;32m      2\u001b[0m \u001b[0mprint\u001b[0m\u001b[0;34m(\u001b[0m\u001b[0mmylist\u001b[0m\u001b[0;34m[\u001b[0m\u001b[0;36m0\u001b[0m\u001b[0;34m]\u001b[0m\u001b[0;34m)\u001b[0m \u001b[0;31m# Starting position is 0\u001b[0m\u001b[0;34m\u001b[0m\u001b[0;34m\u001b[0m\u001b[0m\n\u001b[0;32m----> 3\u001b[0;31m \u001b[0mmylist\u001b[0m\u001b[0;34m[\u001b[0m\u001b[0mlen\u001b[0m\u001b[0;34m(\u001b[0m\u001b[0mmylist\u001b[0m\u001b[0;34m)\u001b[0m\u001b[0;34m]\u001b[0m\u001b[0;34m\u001b[0m\u001b[0;34m\u001b[0m\u001b[0m\n\u001b[0m\u001b[1;32m      4\u001b[0m \u001b[0;31m# print[len(mylist) - 1]\u001b[0m\u001b[0;34m\u001b[0m\u001b[0;34m\u001b[0m\u001b[0m\n",
      "\u001b[0;31mIndexError\u001b[0m: list index out of range"
     ]
    }
   ],
   "source": [
    "# Access elements of a list\n",
    "print(mylist[0]) # Starting position is 0\n",
    "mylist[len(mylist)] # list index out of range"
   ]
  },
  {
   "cell_type": "code",
   "execution_count": 40,
   "id": "ab5afcf0",
   "metadata": {},
   "outputs": [
    {
     "name": "stdout",
     "output_type": "stream",
     "text": [
      "Hello\n",
      "Hello\n"
     ]
    }
   ],
   "source": [
    "# Get the last item\n",
    "print(mylist[len(mylist) - 1])\n",
    "print(mylist[-1])"
   ]
  },
  {
   "cell_type": "code",
   "execution_count": 41,
   "id": "97802a0a",
   "metadata": {},
   "outputs": [
    {
     "name": "stdout",
     "output_type": "stream",
     "text": [
      "2\n"
     ]
    }
   ],
   "source": [
    "print(mylist[-2])"
   ]
  },
  {
   "cell_type": "code",
   "execution_count": 42,
   "id": "cfa77f08",
   "metadata": {},
   "outputs": [
    {
     "name": "stdout",
     "output_type": "stream",
     "text": [
      "1\n"
     ]
    }
   ],
   "source": [
    "print(mylist[-3])"
   ]
  },
  {
   "cell_type": "code",
   "execution_count": 43,
   "id": "9140b290",
   "metadata": {},
   "outputs": [
    {
     "ename": "IndexError",
     "evalue": "list index out of range",
     "output_type": "error",
     "traceback": [
      "\u001b[0;31m---------------------------------------------------------------------------\u001b[0m",
      "\u001b[0;31mIndexError\u001b[0m                                Traceback (most recent call last)",
      "\u001b[0;32m/var/folders/s1/6460_yvs6ggdv14vc1dsk_r40000gn/T/ipykernel_7810/111665933.py\u001b[0m in \u001b[0;36m<module>\u001b[0;34m\u001b[0m\n\u001b[0;32m----> 1\u001b[0;31m \u001b[0mprint\u001b[0m\u001b[0;34m(\u001b[0m\u001b[0mmylist\u001b[0m\u001b[0;34m[\u001b[0m\u001b[0;34m-\u001b[0m\u001b[0;36m4\u001b[0m\u001b[0;34m]\u001b[0m\u001b[0;34m)\u001b[0m\u001b[0;34m\u001b[0m\u001b[0;34m\u001b[0m\u001b[0m\n\u001b[0m",
      "\u001b[0;31mIndexError\u001b[0m: list index out of range"
     ]
    }
   ],
   "source": [
    "print(mylist[-4])"
   ]
  },
  {
   "cell_type": "code",
   "execution_count": 44,
   "id": "f795c8bc",
   "metadata": {},
   "outputs": [
    {
     "data": {
      "text/plain": [
       "[1, 2]"
      ]
     },
     "execution_count": 44,
     "metadata": {},
     "output_type": "execute_result"
    }
   ],
   "source": [
    "# Select a group of values in a list using [starting index:ending index]\n",
    "b = [1, 2, 3, 4, 5, 6, 7, 8]\n",
    "b[0:2] # Start inclusively, end exclusively"
   ]
  },
  {
   "cell_type": "code",
   "execution_count": 45,
   "id": "30708110",
   "metadata": {},
   "outputs": [
    {
     "data": {
      "text/plain": [
       "[3, 4, 5, 6, 7, 8]"
      ]
     },
     "execution_count": 45,
     "metadata": {},
     "output_type": "execute_result"
    }
   ],
   "source": [
    "# Access everything from the starting index to the end of the list\n",
    "b[2:]"
   ]
  },
  {
   "cell_type": "code",
   "execution_count": 46,
   "id": "fa0a5f80",
   "metadata": {},
   "outputs": [
    {
     "data": {
      "text/plain": [
       "['apple', 'orange', 'banana', 'cherry']"
      ]
     },
     "execution_count": 46,
     "metadata": {},
     "output_type": "execute_result"
    }
   ],
   "source": [
    "fruits = [\"apple\", \"banana\", \"cherry\"]\n",
    "\n",
    "# insert\n",
    "fruits.insert(1, \"orange\") # Choose the index of an element you want to insert\n",
    "fruits"
   ]
  },
  {
   "cell_type": "code",
   "execution_count": 47,
   "id": "9bced418",
   "metadata": {},
   "outputs": [
    {
     "data": {
      "text/plain": [
       "'orange'"
      ]
     },
     "execution_count": 47,
     "metadata": {},
     "output_type": "execute_result"
    }
   ],
   "source": [
    "# pop\n",
    "fruits.pop(1) # Choose the index of an element you want to remove"
   ]
  },
  {
   "cell_type": "code",
   "execution_count": 48,
   "id": "08580587",
   "metadata": {},
   "outputs": [
    {
     "name": "stdout",
     "output_type": "stream",
     "text": [
      "['apple', 'banana', 'cherry']\n"
     ]
    }
   ],
   "source": [
    "print(sorted(fruits))"
   ]
  },
  {
   "cell_type": "code",
   "execution_count": 53,
   "id": "38ad357f",
   "metadata": {},
   "outputs": [
    {
     "name": "stdout",
     "output_type": "stream",
     "text": [
      "['cherry', 'banana', 'apple']\n"
     ]
    }
   ],
   "source": [
    "print(sorted(fruits, reverse = True))"
   ]
  },
  {
   "cell_type": "code",
   "execution_count": 54,
   "id": "aff4eb2e",
   "metadata": {},
   "outputs": [
    {
     "name": "stdout",
     "output_type": "stream",
     "text": [
      "(1, 3, 5, 7)\n"
     ]
    }
   ],
   "source": [
    "# tuples\n",
    "thistuple=(1,3,5,7)\n",
    "print(thistuple)"
   ]
  },
  {
   "cell_type": "code",
   "execution_count": 55,
   "id": "8eb41679",
   "metadata": {},
   "outputs": [
    {
     "data": {
      "text/plain": [
       "1"
      ]
     },
     "execution_count": 55,
     "metadata": {},
     "output_type": "execute_result"
    }
   ],
   "source": [
    "thistuple[0]"
   ]
  },
  {
   "cell_type": "code",
   "execution_count": 60,
   "id": "4a9650ac",
   "metadata": {},
   "outputs": [
    {
     "name": "stdout",
     "output_type": "stream",
     "text": [
      "{1, 3, 5, 54, 76}\n"
     ]
    }
   ],
   "source": [
    "# Sets: contain multiple data types; cannot have dulicated elements\n",
    "my_set={1,3,5,3,3,1,54,76}\n",
    "print(my_set)"
   ]
  },
  {
   "cell_type": "code",
   "execution_count": 57,
   "id": "e36458ef",
   "metadata": {},
   "outputs": [
    {
     "name": "stdout",
     "output_type": "stream",
     "text": [
      "The number of unique ages is equal to 8 .\n"
     ]
    }
   ],
   "source": [
    "# Another useful example: find the number of unique values in a list\n",
    "ages = [36, 50, 89, 19, 99, 19, 20, 38, 38, 79, 89]\n",
    "age_set = set(ages)\n",
    "print(\"The number of unique ages is equal to\", len(age_set))"
   ]
  },
  {
   "cell_type": "code",
   "execution_count": 61,
   "id": "389a9a04",
   "metadata": {},
   "outputs": [
    {
     "name": "stdout",
     "output_type": "stream",
     "text": [
      "{'USA': 'Washington D.C.', 'China': 'Beijing', 'UK': 'London', 'France': 'Paris', 'Brazil': 'Brasilia'}\n"
     ]
    }
   ],
   "source": [
    "# Dictionaries - key:value pairs\n",
    "# Create an empty dictionary\n",
    "my_dict = {}\n",
    "\n",
    "# Add an item into a dictionary, you assign dict[key]=value\n",
    "my_dict[\"USA\"]=\"Washington D.C.\"\n",
    "my_dict[\"China\"]=\"Beijing\"\n",
    "my_dict[\"UK\"]=\"London\"\n",
    "my_dict[\"France\"]=\"Paris\"\n",
    "my_dict[\"Brazil\"]=\"Rio De Janiero\"\n",
    "\n",
    "# To replace a value in the dictionary, you can reassign the key's value to another value\n",
    "my_dict[\"Brazil\"]=\"Brasilia\"\n",
    "\n",
    "print(my_dict)"
   ]
  },
  {
   "cell_type": "code",
   "execution_count": null,
   "id": "962669ee",
   "metadata": {},
   "outputs": [],
   "source": [
    "# Access the value of a particular key\n",
    "print(my_dict[\"UK\"])\n",
    "\n",
    "# Access all values\n",
    "print(my_dict.values())\n",
    "\n",
    "# Access all keys\n",
    "print(my_dict.keys())\n",
    "\n",
    "# Convert all keys into a list\n",
    "list(my_dict.keys())"
   ]
  },
  {
   "cell_type": "code",
   "execution_count": 62,
   "id": "241eefe9",
   "metadata": {},
   "outputs": [
    {
     "name": "stdout",
     "output_type": "stream",
     "text": [
      "dict_items([('USA', 'Washington D.C.'), ('China', 'Beijing'), ('UK', 'London'), ('France', 'Paris'), ('Brazil', 'Brasilia')])\n"
     ]
    }
   ],
   "source": [
    "# Lots of coding assignments and interview\n",
    "print(my_dict.items())"
   ]
  },
  {
   "cell_type": "code",
   "execution_count": 64,
   "id": "43370b26",
   "metadata": {},
   "outputs": [
    {
     "name": "stdout",
     "output_type": "stream",
     "text": [
      "[('Brazil', 'Brasilia'), ('China', 'Beijing'), ('France', 'Paris'), ('UK', 'London'), ('USA', 'Washington D.C.')]\n"
     ]
    }
   ],
   "source": [
    "# Sort a dictionary by key\n",
    "print(sorted(my_dict.items())) # A list of tuples"
   ]
  },
  {
   "cell_type": "code",
   "execution_count": 63,
   "id": "2ef632a6",
   "metadata": {},
   "outputs": [
    {
     "name": "stdout",
     "output_type": "stream",
     "text": [
      "{'Brazil': 'Brasilia', 'China': 'Beijing', 'France': 'Paris', 'UK': 'London', 'USA': 'Washington D.C.'}\n"
     ]
    }
   ],
   "source": [
    "# Convert a list of tuples into a dictionary\n",
    "print(dict(sorted(my_dict.items())))"
   ]
  },
  {
   "cell_type": "code",
   "execution_count": 65,
   "id": "df1ce1e1",
   "metadata": {},
   "outputs": [
    {
     "name": "stdout",
     "output_type": "stream",
     "text": [
      "{'China': 'Beijing', 'Brazil': 'Brasilia', 'UK': 'London', 'France': 'Paris', 'USA': 'Washington D.C.'}\n"
     ]
    }
   ],
   "source": [
    "# Sort a dictionary by value\n",
    "# Study lambda; Daniel 没讲清楚\n",
    "print(dict(sorted(my_dict.items(), key=lambda item:item[1])))"
   ]
  },
  {
   "cell_type": "code",
   "execution_count": 66,
   "id": "4f6b8fcf",
   "metadata": {},
   "outputs": [
    {
     "name": "stdout",
     "output_type": "stream",
     "text": [
      "2\n",
      "3\n",
      "5\n",
      "7\n"
     ]
    }
   ],
   "source": [
    "# For loop\n",
    "primes=[2,3,5,7]\n",
    "for prime in primes:\n",
    "    print(prime)"
   ]
  },
  {
   "cell_type": "code",
   "execution_count": 69,
   "id": "0a4aab81",
   "metadata": {},
   "outputs": [
    {
     "name": "stdout",
     "output_type": "stream",
     "text": [
      "2\n",
      "3\n",
      "5\n",
      "7\n"
     ]
    }
   ],
   "source": [
    "for i in range(len(primes)): # Range creates a list of values from 0 until the length of a list - 1\n",
    "    print(primes[i])"
   ]
  },
  {
   "cell_type": "code",
   "execution_count": null,
   "id": "3bddac50",
   "metadata": {},
   "outputs": [],
   "source": [
    "# In a loop, you can use conditionals to help filter specific values\n",
    "primes=[2,3,5,7,11]\n",
    "for p in primes:\n",
    "    if p != 5 and p%2 == 1:\n",
    "        print(p)"
   ]
  },
  {
   "cell_type": "code",
   "execution_count": 70,
   "id": "94625329",
   "metadata": {},
   "outputs": [
    {
     "name": "stdout",
     "output_type": "stream",
     "text": [
      "3\n"
     ]
    }
   ],
   "source": [
    "primes=[2,3,5,7,11]\n",
    "for p in primes:\n",
    "    if p != 5 and p%2 == 1:\n",
    "        print(p)\n",
    "        break"
   ]
  },
  {
   "cell_type": "code",
   "execution_count": 71,
   "id": "41a4c9e3",
   "metadata": {},
   "outputs": [
    {
     "name": "stdout",
     "output_type": "stream",
     "text": [
      "3\n",
      "7\n",
      "11\n"
     ]
    }
   ],
   "source": [
    "primes=[2,3,5,7,11]\n",
    "for p in primes:\n",
    "    if p != 5 and p%2 == 1:\n",
    "        print(p)\n",
    "        pass"
   ]
  },
  {
   "cell_type": "code",
   "execution_count": 72,
   "id": "2ac4e91f",
   "metadata": {},
   "outputs": [
    {
     "name": "stdout",
     "output_type": "stream",
     "text": [
      "3\n",
      "7\n",
      "11\n"
     ]
    }
   ],
   "source": [
    "primes=[2,3,5,7,11]\n",
    "for p in primes:\n",
    "    if p != 5 and p%2 == 1:\n",
    "        print(p)\n",
    "        continue"
   ]
  },
  {
   "cell_type": "code",
   "execution_count": 74,
   "id": "24aafb52",
   "metadata": {},
   "outputs": [
    {
     "data": {
      "text/plain": [
       "[3, 7, 11]"
      ]
     },
     "execution_count": 74,
     "metadata": {},
     "output_type": "execute_result"
    }
   ],
   "source": [
    "# List comprehensions\n",
    "# https://www.w3schools.com/python/python_lists_comprehension.asp\n",
    "primes=[2,3,5,7,11]\n",
    "not_5_odds=[]\n",
    "for p in primes:\n",
    "    if p != 5 and p%2 == 1:\n",
    "        not_5_odds.append(p)\n",
    "not_5_odds"
   ]
  },
  {
   "cell_type": "code",
   "execution_count": 75,
   "id": "1f734574",
   "metadata": {},
   "outputs": [],
   "source": [
    "not_5_odds=[p for p in primes if p!=5 and p%2 == 1]"
   ]
  },
  {
   "cell_type": "code",
   "execution_count": 76,
   "id": "c84c147c",
   "metadata": {},
   "outputs": [
    {
     "data": {
      "text/plain": [
       "[3, 7, 11]"
      ]
     },
     "execution_count": 76,
     "metadata": {},
     "output_type": "execute_result"
    }
   ],
   "source": [
    "not_5_odds"
   ]
  },
  {
   "cell_type": "code",
   "execution_count": 78,
   "id": "7cc33f35",
   "metadata": {},
   "outputs": [
    {
     "name": "stdout",
     "output_type": "stream",
     "text": [
      "Multiply 4 and 3\n",
      "12 7\n"
     ]
    }
   ],
   "source": [
    "def multiply(x,y):\n",
    "    print(\"Multiply\", x, \"and\", y)\n",
    "    result=x*y\n",
    "    su=x+y\n",
    "    return result,su\n",
    "\n",
    "v=4\n",
    "b=3\n",
    "prod,su=multiply(v,b)\n",
    "prod\n",
    "print(prod,su)"
   ]
  },
  {
   "cell_type": "code",
   "execution_count": 79,
   "id": "9925503f",
   "metadata": {},
   "outputs": [
    {
     "name": "stdout",
     "output_type": "stream",
     "text": [
      "Multiply 4 and 3\n",
      "12 7\n"
     ]
    }
   ],
   "source": [
    "def multiply(x,y):\n",
    "    print(\"Multiply {} and {}\".format(x, y))\n",
    "    result=x*y\n",
    "    su=x+y\n",
    "    return result,su\n",
    "\n",
    "v=4\n",
    "b=3\n",
    "prod,su=multiply(v,b)\n",
    "prod\n",
    "print(prod,su)"
   ]
  },
  {
   "cell_type": "code",
   "execution_count": null,
   "id": "5ada7e7b",
   "metadata": {},
   "outputs": [],
   "source": []
  }
 ],
 "metadata": {
  "kernelspec": {
   "display_name": "Python 3 (ipykernel)",
   "language": "python",
   "name": "python3"
  },
  "language_info": {
   "codemirror_mode": {
    "name": "ipython",
    "version": 3
   },
   "file_extension": ".py",
   "mimetype": "text/x-python",
   "name": "python",
   "nbconvert_exporter": "python",
   "pygments_lexer": "ipython3",
   "version": "3.9.7"
  }
 },
 "nbformat": 4,
 "nbformat_minor": 5
}
